{
 "cells": [
  {
   "cell_type": "markdown",
   "metadata": {},
   "source": [
    "#### IMPORTACION DE LAS LIBRERIAS NECESARIAS"
   ]
  },
  {
   "cell_type": "code",
   "execution_count": 34,
   "metadata": {},
   "outputs": [],
   "source": [
    "import pandas as pd\n",
    "import seaborn as sns\n",
    "import matplotlib as plt\n",
    "from matplotlib.pyplot import figure\n",
    "import numpy as np\n",
    "sns.set_style('whitegrid')\n",
    "pd.set_option('display.max_rows', None)\n",
    "from sklearn.preprocessing import LabelEncoder\n",
    "import matplotlib.pyplot as plt\n",
    "import pickle\n",
    "from sklearn.pipeline import make_pipeline\n",
    "from sklearn.model_selection import train_test_split\n",
    "from sklearn.preprocessing import StandardScaler\n",
    "from sklearn.linear_model import LinearRegression\n",
    "from sklearn.metrics import mean_absolute_error, mean_absolute_percentage_error ,mean_squared_error\n",
    "from sklearn.model_selection import GridSearchCV\n",
    "from funciones import drop_colum,data_report,limpieza"
   ]
  },
  {
   "cell_type": "markdown",
   "metadata": {},
   "source": [
    "#### PRIMERA VISUALIZACION"
   ]
  },
  {
   "cell_type": "code",
   "execution_count": 65,
   "metadata": {},
   "outputs": [
    {
     "data": {
      "text/html": [
       "<div>\n",
       "<style scoped>\n",
       "    .dataframe tbody tr th:only-of-type {\n",
       "        vertical-align: middle;\n",
       "    }\n",
       "\n",
       "    .dataframe tbody tr th {\n",
       "        vertical-align: top;\n",
       "    }\n",
       "\n",
       "    .dataframe thead th {\n",
       "        text-align: right;\n",
       "    }\n",
       "</style>\n",
       "<table border=\"1\" class=\"dataframe\">\n",
       "  <thead>\n",
       "    <tr style=\"text-align: right;\">\n",
       "      <th></th>\n",
       "      <th>url</th>\n",
       "      <th>company</th>\n",
       "      <th>make</th>\n",
       "      <th>model</th>\n",
       "      <th>version</th>\n",
       "      <th>price</th>\n",
       "      <th>price_financed</th>\n",
       "      <th>fuel</th>\n",
       "      <th>year</th>\n",
       "      <th>kms</th>\n",
       "      <th>...</th>\n",
       "      <th>doors</th>\n",
       "      <th>shift</th>\n",
       "      <th>color</th>\n",
       "      <th>photos</th>\n",
       "      <th>is_professional</th>\n",
       "      <th>dealer</th>\n",
       "      <th>province</th>\n",
       "      <th>country</th>\n",
       "      <th>publish_date</th>\n",
       "      <th>insert_date</th>\n",
       "    </tr>\n",
       "  </thead>\n",
       "  <tbody>\n",
       "    <tr>\n",
       "      <th>0</th>\n",
       "      <td>e158ae0ca53119ca199c28c36b5c2fcd</td>\n",
       "      <td>9881bcdd5a0ad4733037b3fb25e69c3a</td>\n",
       "      <td>SEAT</td>\n",
       "      <td>Toledo</td>\n",
       "      <td>SEAT Toledo  4p.</td>\n",
       "      <td>950</td>\n",
       "      <td>NaN</td>\n",
       "      <td>Diésel</td>\n",
       "      <td>2000.0</td>\n",
       "      <td>227000</td>\n",
       "      <td>...</td>\n",
       "      <td>4</td>\n",
       "      <td>Manual</td>\n",
       "      <td>Verde</td>\n",
       "      <td>5</td>\n",
       "      <td>False</td>\n",
       "      <td>0f4bb8455d27349b8273109b66a847f3</td>\n",
       "      <td>Navarra</td>\n",
       "      <td>Spain</td>\n",
       "      <td>2020-12-18 10:47:13</td>\n",
       "      <td>2021-01-15 00:00:00</td>\n",
       "    </tr>\n",
       "    <tr>\n",
       "      <th>1</th>\n",
       "      <td>ff267ebb7e700246f47f84f3db660b4b</td>\n",
       "      <td>9881bcdd5a0ad4733037b3fb25e69c3a</td>\n",
       "      <td>CITROEN</td>\n",
       "      <td>C1</td>\n",
       "      <td>CITROEN C1 PureTech 60KW 82CV Feel 5p.</td>\n",
       "      <td>6200</td>\n",
       "      <td>NaN</td>\n",
       "      <td>Gasolina</td>\n",
       "      <td>2017.0</td>\n",
       "      <td>50071</td>\n",
       "      <td>...</td>\n",
       "      <td>5</td>\n",
       "      <td>Manual</td>\n",
       "      <td>Blanco</td>\n",
       "      <td>6</td>\n",
       "      <td>True</td>\n",
       "      <td>Autos Raymara</td>\n",
       "      <td>Tenerife</td>\n",
       "      <td>Spain</td>\n",
       "      <td>2021-01-02 11:25:40</td>\n",
       "      <td>2021-01-15 00:00:00</td>\n",
       "    </tr>\n",
       "    <tr>\n",
       "      <th>2</th>\n",
       "      <td>de4b02db28ea7786c622b969be10c7c7</td>\n",
       "      <td>9881bcdd5a0ad4733037b3fb25e69c3a</td>\n",
       "      <td>FORD</td>\n",
       "      <td>Transit Connect</td>\n",
       "      <td>FORD Transit Connect Van 1.5 TDCi 100cv Ambien...</td>\n",
       "      <td>7851</td>\n",
       "      <td>7024.0</td>\n",
       "      <td>Diésel</td>\n",
       "      <td>2016.0</td>\n",
       "      <td>103000</td>\n",
       "      <td>...</td>\n",
       "      <td>4</td>\n",
       "      <td>Manual</td>\n",
       "      <td>Blanco</td>\n",
       "      <td>10</td>\n",
       "      <td>True</td>\n",
       "      <td>Auto 96</td>\n",
       "      <td>Barcelona</td>\n",
       "      <td>Spain</td>\n",
       "      <td>2020-12-16 10:51:45</td>\n",
       "      <td>2021-01-15 00:00:00</td>\n",
       "    </tr>\n",
       "    <tr>\n",
       "      <th>3</th>\n",
       "      <td>0449972a4d07594acf92e9a7dd28b39c</td>\n",
       "      <td>9881bcdd5a0ad4733037b3fb25e69c3a</td>\n",
       "      <td>VOLKSWAGEN</td>\n",
       "      <td>Caravelle</td>\n",
       "      <td>VOLKSWAGEN Caravelle Largo 2.0 TDI 140 Comfort...</td>\n",
       "      <td>19426</td>\n",
       "      <td>NaN</td>\n",
       "      <td>Diésel</td>\n",
       "      <td>2014.0</td>\n",
       "      <td>120000</td>\n",
       "      <td>...</td>\n",
       "      <td>4</td>\n",
       "      <td>Manual</td>\n",
       "      <td>Blanco</td>\n",
       "      <td>9</td>\n",
       "      <td>True</td>\n",
       "      <td>Inniauto</td>\n",
       "      <td>Navarra</td>\n",
       "      <td>Spain</td>\n",
       "      <td>2020-11-25 11:09:14</td>\n",
       "      <td>2021-01-15 00:00:00</td>\n",
       "    </tr>\n",
       "    <tr>\n",
       "      <th>4</th>\n",
       "      <td>12c4fa49bd4fdf23f19ecf396d3f02ef</td>\n",
       "      <td>9881bcdd5a0ad4733037b3fb25e69c3a</td>\n",
       "      <td>FORD</td>\n",
       "      <td>Transit</td>\n",
       "      <td>FORD Transit 350 96kW L4 Ambiente Propulsion T...</td>\n",
       "      <td>22850</td>\n",
       "      <td>22800.0</td>\n",
       "      <td>Diésel</td>\n",
       "      <td>2017.0</td>\n",
       "      <td>107000</td>\n",
       "      <td>...</td>\n",
       "      <td>2</td>\n",
       "      <td>Manual</td>\n",
       "      <td>Blanco</td>\n",
       "      <td>4</td>\n",
       "      <td>True</td>\n",
       "      <td>Autofleet España,s.l</td>\n",
       "      <td>Sevilla</td>\n",
       "      <td>Spain</td>\n",
       "      <td>2021-01-12 20:00:34</td>\n",
       "      <td>2021-01-15 00:00:00</td>\n",
       "    </tr>\n",
       "  </tbody>\n",
       "</table>\n",
       "<p>5 rows × 21 columns</p>\n",
       "</div>"
      ],
      "text/plain": [
       "                                url                           company  \\\n",
       "0  e158ae0ca53119ca199c28c36b5c2fcd  9881bcdd5a0ad4733037b3fb25e69c3a   \n",
       "1  ff267ebb7e700246f47f84f3db660b4b  9881bcdd5a0ad4733037b3fb25e69c3a   \n",
       "2  de4b02db28ea7786c622b969be10c7c7  9881bcdd5a0ad4733037b3fb25e69c3a   \n",
       "3  0449972a4d07594acf92e9a7dd28b39c  9881bcdd5a0ad4733037b3fb25e69c3a   \n",
       "4  12c4fa49bd4fdf23f19ecf396d3f02ef  9881bcdd5a0ad4733037b3fb25e69c3a   \n",
       "\n",
       "         make            model  \\\n",
       "0        SEAT           Toledo   \n",
       "1     CITROEN               C1   \n",
       "2        FORD  Transit Connect   \n",
       "3  VOLKSWAGEN        Caravelle   \n",
       "4        FORD          Transit   \n",
       "\n",
       "                                             version  price  price_financed  \\\n",
       "0                                   SEAT Toledo  4p.    950             NaN   \n",
       "1             CITROEN C1 PureTech 60KW 82CV Feel 5p.   6200             NaN   \n",
       "2  FORD Transit Connect Van 1.5 TDCi 100cv Ambien...   7851          7024.0   \n",
       "3  VOLKSWAGEN Caravelle Largo 2.0 TDI 140 Comfort...  19426             NaN   \n",
       "4  FORD Transit 350 96kW L4 Ambiente Propulsion T...  22850         22800.0   \n",
       "\n",
       "       fuel    year     kms  ...  doors   shift   color photos  \\\n",
       "0    Diésel  2000.0  227000  ...      4  Manual   Verde      5   \n",
       "1  Gasolina  2017.0   50071  ...      5  Manual  Blanco      6   \n",
       "2    Diésel  2016.0  103000  ...      4  Manual  Blanco     10   \n",
       "3    Diésel  2014.0  120000  ...      4  Manual  Blanco      9   \n",
       "4    Diésel  2017.0  107000  ...      2  Manual  Blanco      4   \n",
       "\n",
       "   is_professional                            dealer   province country  \\\n",
       "0            False  0f4bb8455d27349b8273109b66a847f3    Navarra   Spain   \n",
       "1             True                     Autos Raymara   Tenerife   Spain   \n",
       "2             True                           Auto 96  Barcelona   Spain   \n",
       "3             True                          Inniauto    Navarra   Spain   \n",
       "4             True              Autofleet España,s.l    Sevilla   Spain   \n",
       "\n",
       "          publish_date          insert_date  \n",
       "0  2020-12-18 10:47:13  2021-01-15 00:00:00  \n",
       "1  2021-01-02 11:25:40  2021-01-15 00:00:00  \n",
       "2  2020-12-16 10:51:45  2021-01-15 00:00:00  \n",
       "3  2020-11-25 11:09:14  2021-01-15 00:00:00  \n",
       "4  2021-01-12 20:00:34  2021-01-15 00:00:00  \n",
       "\n",
       "[5 rows x 21 columns]"
      ]
     },
     "execution_count": 65,
     "metadata": {},
     "output_type": "execute_result"
    }
   ],
   "source": [
    "# Importo y visualizo el dataset con el que voy a trabajar\n",
    "df = pd.read_csv('data/raw/coches-de-segunda-mano-sample.csv')\n",
    "df.head()"
   ]
  },
  {
   "cell_type": "code",
   "execution_count": 66,
   "metadata": {},
   "outputs": [
    {
     "name": "stdout",
     "output_type": "stream",
     "text": [
      "<class 'pandas.core.frame.DataFrame'>\n",
      "RangeIndex: 50000 entries, 0 to 49999\n",
      "Data columns (total 21 columns):\n",
      " #   Column           Non-Null Count  Dtype  \n",
      "---  ------           --------------  -----  \n",
      " 0   url              50000 non-null  object \n",
      " 1   company          50000 non-null  object \n",
      " 2   make             49998 non-null  object \n",
      " 3   model            49995 non-null  object \n",
      " 4   version          50000 non-null  object \n",
      " 5   price            50000 non-null  int64  \n",
      " 6   price_financed   23563 non-null  float64\n",
      " 7   fuel             49954 non-null  object \n",
      " 8   year             49998 non-null  float64\n",
      " 9   kms              50000 non-null  int64  \n",
      " 10  power            41472 non-null  float64\n",
      " 11  doors            50000 non-null  int64  \n",
      " 12  shift            49889 non-null  object \n",
      " 13  color            49406 non-null  object \n",
      " 14  photos           50000 non-null  int64  \n",
      " 15  is_professional  50000 non-null  bool   \n",
      " 16  dealer           50000 non-null  object \n",
      " 17  province         49994 non-null  object \n",
      " 18  country          50000 non-null  object \n",
      " 19  publish_date     50000 non-null  object \n",
      " 20  insert_date      50000 non-null  object \n",
      "dtypes: bool(1), float64(3), int64(4), object(13)\n",
      "memory usage: 7.7+ MB\n"
     ]
    }
   ],
   "source": [
    "# Hago primeras visualizaciones rápidas, para ver los datos que tengo dentro del dataset\n",
    "df.info()"
   ]
  },
  {
   "cell_type": "markdown",
   "metadata": {},
   "source": [
    "#### Limpieza de datos y feature engineering "
   ]
  },
  {
   "cell_type": "code",
   "execution_count": 67,
   "metadata": {},
   "outputs": [],
   "source": [
    "# Elimino las columnas que no me son útiles para el futuro modelo\n",
    "\n",
    "df.drop(['url','company','price_financed','is_professional','dealer','version','country','publish_date','insert_date'],axis=1,inplace=True)"
   ]
  },
  {
   "cell_type": "code",
   "execution_count": 32,
   "metadata": {},
   "outputs": [],
   "source": [
    "# Implemento una lógica para convertir columnas de tipo object a tipo int/float\n",
    "\n",
    "fuel = []\n",
    "    \n",
    "for i in df['fuel']:\n",
    "    if i =='Gas natural (CNG)':\n",
    "        i = 4\n",
    "        fuel.append(i)\n",
    "    elif i == 'Gasolina':\n",
    "        i = 4\n",
    "        fuel.append(i)\n",
    "    elif i == 'Híbrido enchufable':\n",
    "        i = 6\n",
    "        fuel.append(i)\n",
    "    elif i == 'Eléctrico' or i == 'Híbrido':\n",
    "        i = 5\n",
    "        fuel.append(i)\n",
    "    elif i == \"Diésel\":\n",
    "        i = 3\n",
    "        fuel.append(i)\n",
    "    elif i == 'Gas':\n",
    "        i =2\n",
    "        fuel.append(i)\n",
    "    else:\n",
    "        i = 1\n",
    "        fuel.append(i)\n",
    "\n",
    "shift = []\n",
    "for i in df['shift']:\n",
    "    if i == 'Manual':\n",
    "        i = 2 \n",
    "        shift.append(i)\n",
    "    elif i == 'Automático':\n",
    "        i = 3 \n",
    "        shift.append(i)\n",
    "    else:\n",
    "        i = 1\n",
    "        shift.append(i)\n",
    "\n",
    "\n",
    "colores = []\n",
    "for i in df['color']:\n",
    "    if i == 'Plata':\n",
    "        i = 1\n",
    "        colores.append(i)    \n",
    "\n",
    "    elif i == 'Negro':\n",
    "        i = 2\n",
    "        colores.append(i)\n",
    "\n",
    "    elif i == 'Blanco':\n",
    "        i = 3\n",
    "        colores.append(i)\n",
    "\n",
    "    else:\n",
    "        i = 4\n",
    "        colores.append(i)\n",
    "    \n",
    "    \n",
    "marca = []\n",
    "for i in df['make']:\n",
    "    if i == \"BENTLEY\" or i == \"FERRARI\" or i ==\"LAMBORGHINI\":\n",
    "        i = 5\n",
    "        marca.append(i)\n",
    "    elif i ==\"ASTON MARTIN\" or i ==\"ALPINE\" or i ==\"PORSCHE\" or i==\"MASERATI\" or i==\"TESLA\":\n",
    "        i = 4\n",
    "        marca.append(i)\n",
    "    elif i == \"CORVETTE\" or i==\"CUPRA\" or i==\"LAND-ROVER\" or i==\"HUMMER\" or i==\"LOTUS\" or i== \"ISUZU\" or i==\"MORGAN\" or i==\"JAGUAR\" or i==\"MERCEDES-BENZ\":\n",
    "        i = 3\n",
    "        marca.append(i)\n",
    "\n",
    "    elif i == \"DS\" or i==\"LEdfUS\" or i==\"JEEP\" or i==\"DFSK\" or i==\"VOLVO\" or i==\"BMW\" or i==\"AUDI\" or i==\"SUBARU\" or i==\"INFINIT\" or i==\"MAdfUS\" or i==\"ABARTH\":\n",
    "        i = 2\n",
    "        marca.append(i)\n",
    "    else:\n",
    "        i=1\n",
    "        marca.append(i)\n",
    "\n",
    "puertas = []\n",
    "    \n",
    "for i in df['doors']:\n",
    "    if i == 4 or i == 5:\n",
    "        i = 2\n",
    "        puertas.append(i)\n",
    "    elif  i == 2:\n",
    "        i = 3\n",
    "        puertas.append(i)\n",
    "    else:\n",
    "        i = 1\n",
    "        puertas.append(i)\n",
    "\n",
    "\n",
    "le = LabelEncoder()\n",
    "le.fit(df['province'])\n",
    "df['province'] = le.transform(df['province'])\n",
    "\n",
    "le = LabelEncoder()\n",
    "le.fit(df['model'])\n",
    "df['model'] = le.transform(df['model'])\n",
    "\n",
    "    \n",
    "df['make'] = marca\n",
    "df['shift'] = shift\n",
    "df['color'] = colores\n",
    "df['fuel'] = fuel\n",
    "df['doors'] = puertas\n",
    "\n",
    "# Sustitución y eliminación de filas con NaN\n",
    "\n",
    "df['model'].fillna('León',inplace=True)\n",
    "df['make'].fillna('CITROEN',inplace=True)\n",
    "df['fuel'].fillna('Gasolina',inplace=True) \n",
    "df['year'].fillna(2019,inplace=True)\n",
    "df = df.dropna(inplace=True)  "
   ]
  },
  {
   "cell_type": "code",
   "execution_count": 38,
   "metadata": {},
   "outputs": [
    {
     "name": "stdout",
     "output_type": "stream",
     "text": [
      "<class 'pandas.core.frame.DataFrame'>\n",
      "Int64Index: 41472 entries, 1 to 49999\n",
      "Data columns (total 12 columns):\n",
      " #   Column    Non-Null Count  Dtype  \n",
      "---  ------    --------------  -----  \n",
      " 0   make      41472 non-null  int64  \n",
      " 1   model     41472 non-null  int32  \n",
      " 2   price     41472 non-null  int64  \n",
      " 3   fuel      41472 non-null  int64  \n",
      " 4   year      41472 non-null  float64\n",
      " 5   kms       41472 non-null  int64  \n",
      " 6   power     41472 non-null  float64\n",
      " 7   doors     41472 non-null  int64  \n",
      " 8   shift     41472 non-null  int64  \n",
      " 9   color     41472 non-null  int64  \n",
      " 10  photos    41472 non-null  int64  \n",
      " 11  province  41472 non-null  int32  \n",
      "dtypes: float64(2), int32(2), int64(8)\n",
      "memory usage: 3.8 MB\n"
     ]
    }
   ],
   "source": [
    "# Dataframe preparado para poder empezar a analizarlo y posterior creación de modelos de ML\n",
    "df.info()"
   ]
  },
  {
   "cell_type": "code",
   "execution_count": 70,
   "metadata": {},
   "outputs": [],
   "source": [
    "# Por último decido renomabrar las columnas para facilitar el entendimiento del dataframe\n",
    "df.rename(columns={'make':'Marca',\n",
    "                    'model':'Modelo',\n",
    "                    'price':'Precio',\n",
    "                    'fuel':'Tipo_Combustible',\n",
    "                    'year':'Año',\n",
    "                    'power':'CV',\n",
    "                    'doors':'N_Puertas',\n",
    "                    'shift':'Tipo_Cambio',\n",
    "                    'photos':'N_Fotos',\n",
    "                    'province':'Provincia'},inplace=True)\n",
    "\n"
   ]
  },
  {
   "cell_type": "markdown",
   "metadata": {},
   "source": [
    "# EDA"
   ]
  },
  {
   "cell_type": "code",
   "execution_count": 40,
   "metadata": {},
   "outputs": [
    {
     "data": {
      "image/png": "[encoded data removed]",
      "text/plain": [
       "<Figure size 648x288 with 2 Axes>"
      ]
     },
     "metadata": {},
     "output_type": "display_data"
    }
   ],
   "source": [
    "plt.figure(figsize=(9,4))\n",
    "sns.heatmap(df.corr(),annot=True);"
   ]
  },
  {
   "cell_type": "markdown",
   "metadata": {},
   "source": [
    "He conseguido tener muy buenas correlaciones respecto a la variable target que es precio. Para he tenido que analizar más a fondo algunas features, para poder comprender la correlación con el precio. Para ello realicé las siguientes visualizaciones."
   ]
  },
  {
   "cell_type": "code",
   "execution_count": 50,
   "metadata": {},
   "outputs": [
    {
     "data": {
      "image/png": "[encoded data removed]",
      "text/plain": [
       "<Figure size 2160x2160 with 1 Axes>"
      ]
     },
     "metadata": {},
     "output_type": "display_data"
    }
   ],
   "source": [
    "# Primero empecé por la variable marca\n",
    "p_marcas =df.groupby('Marca',as_index=False)[['Precio']].mean()\n",
    "p_marcas= p_marcas.sort_values(by='Precio',ascending=False)\n",
    "plt.figure(figsize=(30,30))\n",
    "sns.barplot(x='Precio',y='Marca',data=p_marcas);"
   ]
  },
  {
   "cell_type": "code",
   "execution_count": 53,
   "metadata": {},
   "outputs": [
    {
     "data": {
      "text/plain": [
       "<AxesSubplot:xlabel='Precio', ylabel='Tipo_Combustible'>"
      ]
     },
     "execution_count": 53,
     "metadata": {},
     "output_type": "execute_result"
    },
    {
     "data": {
      "image/png": "[encoded data removed]",
      "text/plain": [
       "<Figure size 720x360 with 1 Axes>"
      ]
     },
     "metadata": {},
     "output_type": "display_data"
    }
   ],
   "source": [
    "# Lo siguiente analizo más en profundidad es el timpo de combustible\n",
    "tipo_motor = df.groupby('Tipo_Combustible',as_index=False)[['Precio']].mean()\n",
    "tipo_motor = tipo_motor.sort_values(by='Precio',ascending=False)\n",
    "plt.figure(figsize=(10,5))\n",
    "sns.barplot(x='Precio',y='Tipo_Combustible',data=tipo_motor)"
   ]
  },
  {
   "cell_type": "code",
   "execution_count": 55,
   "metadata": {},
   "outputs": [
    {
     "data": {
      "image/png": "[encoded data removed]",
      "text/plain": [
       "<Figure size 1080x720 with 1 Axes>"
      ]
     },
     "metadata": {},
     "output_type": "display_data"
    }
   ],
   "source": [
    "# Analizo la provincia donde se ha publicado el coche que se vende\n",
    "provincia = df.groupby('Provincia',as_index=False)[['Precio']].mean()\n",
    "provincia = provincia.sort_values(by='Precio',ascending=False)\n",
    "provincia.head()\n",
    "plt.figure(figsize=(15,10))\n",
    "sns.barplot(x='Precio',y='Provincia',data=provincia);"
   ]
  },
  {
   "cell_type": "code",
   "execution_count": 57,
   "metadata": {},
   "outputs": [
    {
     "data": {
      "image/png": "[encoded data removed]",
      "text/plain": [
       "<Figure size 864x576 with 1 Axes>"
      ]
     },
     "metadata": {},
     "output_type": "display_data"
    }
   ],
   "source": [
    "# También analiz el número de fotos que tiene cada anuncio y si tiene relación respecto al precio\n",
    "n_fotos = df.groupby('N_Fotos',as_index=False)[['Precio']].mean()\n",
    "n_fotos = n_fotos.sort_values(by='Precio',ascending=False)\n",
    "n_fotos.head()\n",
    "plt.figure(figsize=(12,8))\n",
    "sns.barplot(x='N_Fotos',y='Precio',data=n_fotos);"
   ]
  },
  {
   "cell_type": "code",
   "execution_count": 59,
   "metadata": {},
   "outputs": [
    {
     "data": {
      "image/png": "[encoded data removed]",
      "text/plain": [
       "<Figure size 432x360 with 1 Axes>"
      ]
     },
     "metadata": {},
     "output_type": "display_data"
    }
   ],
   "source": [
    "# La siguiente variable a analizar es el número de puertas\n",
    "n_puertas = df.groupby('N_Puertas',as_index=False)[['Precio']].mean()\n",
    "n_puertas = n_puertas.sort_values(by='Precio',ascending=False)\n",
    "n_puertas\n",
    "plt.figure(figsize=(6,5))\n",
    "sns.barplot(x='N_Puertas',y='Precio',data=n_puertas);"
   ]
  },
  {
   "cell_type": "code",
   "execution_count": 60,
   "metadata": {},
   "outputs": [
    {
     "data": {
      "text/plain": [
       "Index(['Marca', 'Modelo', 'Precio', 'Tipo_Combustible', 'Año', 'kms', 'CV',\n",
       "       'N_Puertas', 'Tipo_Cambio', 'color', 'N_Fotos', 'Provincia'],\n",
       "      dtype='object')"
      ]
     },
     "execution_count": 60,
     "metadata": {},
     "output_type": "execute_result"
    }
   ],
   "source": [
    "df.columns"
   ]
  },
  {
   "cell_type": "code",
   "execution_count": 61,
   "metadata": {},
   "outputs": [
    {
     "data": {
      "image/png": "[encoded data removed]",
      "text/plain": [
       "<Figure size 1440x1440 with 1 Axes>"
      ]
     },
     "metadata": {},
     "output_type": "display_data"
    }
   ],
   "source": [
    "# Por último realizo una visualización de CV respecto al precio, con la que observo una ligera correlación positiva\n",
    "\n",
    "plt.figure(figsize=(20,20))\n",
    "sns.scatterplot(data=df, x='Precio', y='CV');"
   ]
  },
  {
   "cell_type": "code",
   "execution_count": 68,
   "metadata": {},
   "outputs": [],
   "source": [
    "limpieza(df)"
   ]
  },
  {
   "cell_type": "code",
   "execution_count": 71,
   "metadata": {},
   "outputs": [],
   "source": [
    "# Tras estas visualizaciones decido crear una nueva variable con las variables que más correlación tienen\n",
    "TDG = (df['Marca'] + df['Precio'] - df['kms'] + df['CV']+df['Tipo_Cambio'])/df['Precio']\n",
    "df['TDG'] = TDG"
   ]
  },
  {
   "cell_type": "code",
   "execution_count": 73,
   "metadata": {},
   "outputs": [
    {
     "data": {
      "image/png": "[encoded data removed]",
      "text/plain": [
       "<Figure size 1080x576 with 2 Axes>"
      ]
     },
     "metadata": {},
     "output_type": "display_data"
    }
   ],
   "source": [
    "plt.figure(figsize=(15,8))\n",
    "sns.heatmap(df.corr(),annot=True);"
   ]
  },
  {
   "cell_type": "code",
   "execution_count": 74,
   "metadata": {},
   "outputs": [],
   "source": [
    "# Me guardo este dataframe como csv\n",
    "df.to_csv('data/coches_segunda_mano_ML.csv',index=False)"
   ]
  },
  {
   "cell_type": "markdown",
   "metadata": {},
   "source": [
    "# Creación, prueba y guardado de modelo de Machine Learning"
   ]
  },
  {
   "cell_type": "markdown",
   "metadata": {},
   "source": [
    "#### Primero importo todas las librerías necesarias"
   ]
  },
  {
   "cell_type": "code",
   "execution_count": 76,
   "metadata": {},
   "outputs": [],
   "source": [
    "from sklearn.model_selection import train_test_split\n",
    "from sklearn.linear_model import LinearRegression\n",
    "from sklearn.metrics import mean_absolute_error, mean_absolute_percentage_error ,mean_squared_error,r2_score,max_error\n",
    "from sklearn.model_selection import GridSearchCV\n",
    "from sklearn.preprocessing import PolynomialFeatures\n",
    "import matplotlib.pyplot as plt\n",
    "import warnings\n",
    "warnings.filterwarnings(\"ignore\", category=DeprecationWarning)\n",
    "from sklearn.metrics import make_scorer\n",
    "from sklearn.tree import DecisionTreeRegressor\n",
    "from sklearn.neighbors import  KNeighborsRegressor\n",
    "from sklearn.preprocessing import StandardScaler\n",
    "from sklearn.svm import SVR\n",
    "from sklearn.ensemble import RandomForestRegressor,AdaBoostRegressor, GradientBoostingRegressor\n",
    "import xgboost\n",
    "import pickle\n",
    "pd.set_option('display.float_format', lambda x: '%.2f' % x)"
   ]
  },
  {
   "cell_type": "code",
   "execution_count": 77,
   "metadata": {},
   "outputs": [
    {
     "data": {
      "text/html": [
       "<div>\n",
       "<style scoped>\n",
       "    .dataframe tbody tr th:only-of-type {\n",
       "        vertical-align: middle;\n",
       "    }\n",
       "\n",
       "    .dataframe tbody tr th {\n",
       "        vertical-align: top;\n",
       "    }\n",
       "\n",
       "    .dataframe thead th {\n",
       "        text-align: right;\n",
       "    }\n",
       "</style>\n",
       "<table border=\"1\" class=\"dataframe\">\n",
       "  <thead>\n",
       "    <tr style=\"text-align: right;\">\n",
       "      <th></th>\n",
       "      <th>Marca</th>\n",
       "      <th>Modelo</th>\n",
       "      <th>Precio</th>\n",
       "      <th>Tipo_Combustible</th>\n",
       "      <th>Año</th>\n",
       "      <th>kms</th>\n",
       "      <th>CV</th>\n",
       "      <th>N_Puertas</th>\n",
       "      <th>Tipo_Cambio</th>\n",
       "      <th>color</th>\n",
       "      <th>N_Fotos</th>\n",
       "      <th>Provincia</th>\n",
       "      <th>TDG</th>\n",
       "    </tr>\n",
       "  </thead>\n",
       "  <tbody>\n",
       "    <tr>\n",
       "      <th>0</th>\n",
       "      <td>1</td>\n",
       "      <td>172</td>\n",
       "      <td>6200</td>\n",
       "      <td>4</td>\n",
       "      <td>2017.00</td>\n",
       "      <td>50071</td>\n",
       "      <td>82.00</td>\n",
       "      <td>2</td>\n",
       "      <td>2</td>\n",
       "      <td>3</td>\n",
       "      <td>6</td>\n",
       "      <td>42</td>\n",
       "      <td>-7.06</td>\n",
       "    </tr>\n",
       "    <tr>\n",
       "      <th>1</th>\n",
       "      <td>1</td>\n",
       "      <td>814</td>\n",
       "      <td>7851</td>\n",
       "      <td>3</td>\n",
       "      <td>2016.00</td>\n",
       "      <td>103000</td>\n",
       "      <td>100.00</td>\n",
       "      <td>2</td>\n",
       "      <td>2</td>\n",
       "      <td>3</td>\n",
       "      <td>10</td>\n",
       "      <td>7</td>\n",
       "      <td>-12.11</td>\n",
       "    </tr>\n",
       "    <tr>\n",
       "      <th>2</th>\n",
       "      <td>1</td>\n",
       "      <td>221</td>\n",
       "      <td>19426</td>\n",
       "      <td>3</td>\n",
       "      <td>2014.00</td>\n",
       "      <td>120000</td>\n",
       "      <td>140.00</td>\n",
       "      <td>2</td>\n",
       "      <td>2</td>\n",
       "      <td>3</td>\n",
       "      <td>9</td>\n",
       "      <td>33</td>\n",
       "      <td>-5.17</td>\n",
       "    </tr>\n",
       "    <tr>\n",
       "      <th>3</th>\n",
       "      <td>1</td>\n",
       "      <td>813</td>\n",
       "      <td>22850</td>\n",
       "      <td>3</td>\n",
       "      <td>2017.00</td>\n",
       "      <td>107000</td>\n",
       "      <td>130.00</td>\n",
       "      <td>3</td>\n",
       "      <td>2</td>\n",
       "      <td>3</td>\n",
       "      <td>4</td>\n",
       "      <td>39</td>\n",
       "      <td>-3.68</td>\n",
       "    </tr>\n",
       "    <tr>\n",
       "      <th>4</th>\n",
       "      <td>1</td>\n",
       "      <td>40</td>\n",
       "      <td>11490</td>\n",
       "      <td>4</td>\n",
       "      <td>2016.00</td>\n",
       "      <td>78665</td>\n",
       "      <td>130.00</td>\n",
       "      <td>2</td>\n",
       "      <td>2</td>\n",
       "      <td>3</td>\n",
       "      <td>32</td>\n",
       "      <td>29</td>\n",
       "      <td>-5.83</td>\n",
       "    </tr>\n",
       "  </tbody>\n",
       "</table>\n",
       "</div>"
      ],
      "text/plain": [
       "   Marca  Modelo  Precio  Tipo_Combustible     Año     kms     CV  N_Puertas  \\\n",
       "0      1     172    6200                 4 2017.00   50071  82.00          2   \n",
       "1      1     814    7851                 3 2016.00  103000 100.00          2   \n",
       "2      1     221   19426                 3 2014.00  120000 140.00          2   \n",
       "3      1     813   22850                 3 2017.00  107000 130.00          3   \n",
       "4      1      40   11490                 4 2016.00   78665 130.00          2   \n",
       "\n",
       "   Tipo_Cambio  color  N_Fotos  Provincia    TDG  \n",
       "0            2      3        6         42  -7.06  \n",
       "1            2      3       10          7 -12.11  \n",
       "2            2      3        9         33  -5.17  \n",
       "3            2      3        4         39  -3.68  \n",
       "4            2      3       32         29  -5.83  "
      ]
     },
     "execution_count": 77,
     "metadata": {},
     "output_type": "execute_result"
    }
   ],
   "source": [
    "# Vuelvo a leer los datos\n",
    "\n",
    "df = pd.read_csv('data/processed/coches_segunda_mano_ML.csv')\n",
    "df.head()"
   ]
  },
  {
   "cell_type": "markdown",
   "metadata": {},
   "source": [
    "## Divido el DF en train y test"
   ]
  },
  {
   "cell_type": "code",
   "execution_count": 78,
   "metadata": {},
   "outputs": [
    {
     "name": "stdout",
     "output_type": "stream",
     "text": [
      "(41472, 12)\n",
      "(41472,)\n",
      "(33177, 12)\n",
      "(8295, 12)\n",
      "(33177,)\n",
      "(8295,)\n"
     ]
    }
   ],
   "source": [
    "X = df.drop(['Precio'],axis=1)\n",
    "y = df['Precio']\n",
    "\n",
    "print(X.shape)\n",
    "print(y.shape)\n",
    "\n",
    "X_train, X_test, y_train, y_test = train_test_split(X, y, test_size = 0.20, random_state = 42)\n",
    "\n",
    "print(X_train.shape)\n",
    "print(X_test.shape)\n",
    "print(y_train.shape)\n",
    "print(y_test.shape)"
   ]
  },
  {
   "cell_type": "markdown",
   "metadata": {},
   "source": [
    "## Linear Regression"
   ]
  },
  {
   "cell_type": "code",
   "execution_count": 79,
   "metadata": {},
   "outputs": [
    {
     "data": {
      "text/html": [
       "<div>\n",
       "<style scoped>\n",
       "    .dataframe tbody tr th:only-of-type {\n",
       "        vertical-align: middle;\n",
       "    }\n",
       "\n",
       "    .dataframe tbody tr th {\n",
       "        vertical-align: top;\n",
       "    }\n",
       "\n",
       "    .dataframe thead th {\n",
       "        text-align: right;\n",
       "    }\n",
       "</style>\n",
       "<table border=\"1\" class=\"dataframe\">\n",
       "  <thead>\n",
       "    <tr style=\"text-align: right;\">\n",
       "      <th></th>\n",
       "      <th>Coeficient</th>\n",
       "    </tr>\n",
       "  </thead>\n",
       "  <tbody>\n",
       "    <tr>\n",
       "      <th>Marca</th>\n",
       "      <td>3834.16</td>\n",
       "    </tr>\n",
       "    <tr>\n",
       "      <th>Año</th>\n",
       "      <td>804.06</td>\n",
       "    </tr>\n",
       "    <tr>\n",
       "      <th>color</th>\n",
       "      <td>320.38</td>\n",
       "    </tr>\n",
       "    <tr>\n",
       "      <th>CV</th>\n",
       "      <td>144.54</td>\n",
       "    </tr>\n",
       "    <tr>\n",
       "      <th>Modelo</th>\n",
       "      <td>0.18</td>\n",
       "    </tr>\n",
       "    <tr>\n",
       "      <th>kms</th>\n",
       "      <td>-0.06</td>\n",
       "    </tr>\n",
       "    <tr>\n",
       "      <th>Provincia</th>\n",
       "      <td>-5.12</td>\n",
       "    </tr>\n",
       "    <tr>\n",
       "      <th>N_Fotos</th>\n",
       "      <td>-17.27</td>\n",
       "    </tr>\n",
       "    <tr>\n",
       "      <th>TDG</th>\n",
       "      <td>-56.53</td>\n",
       "    </tr>\n",
       "    <tr>\n",
       "      <th>Tipo_Cambio</th>\n",
       "      <td>-73.14</td>\n",
       "    </tr>\n",
       "    <tr>\n",
       "      <th>N_Puertas</th>\n",
       "      <td>-111.66</td>\n",
       "    </tr>\n",
       "    <tr>\n",
       "      <th>Tipo_Combustible</th>\n",
       "      <td>-1107.37</td>\n",
       "    </tr>\n",
       "  </tbody>\n",
       "</table>\n",
       "</div>"
      ],
      "text/plain": [
       "                  Coeficient\n",
       "Marca                3834.16\n",
       "Año                   804.06\n",
       "color                 320.38\n",
       "CV                    144.54\n",
       "Modelo                  0.18\n",
       "kms                    -0.06\n",
       "Provincia              -5.12\n",
       "N_Fotos               -17.27\n",
       "TDG                   -56.53\n",
       "Tipo_Cambio           -73.14\n",
       "N_Puertas            -111.66\n",
       "Tipo_Combustible    -1107.37"
      ]
     },
     "execution_count": 79,
     "metadata": {},
     "output_type": "execute_result"
    }
   ],
   "source": [
    "reg_mod = LinearRegression()\n",
    "reg_mod.fit(X_train,y_train)\n",
    "coef_reg_mod = pd.DataFrame(reg_mod.coef_,\n",
    "                            X.columns,\n",
    "                            columns=['Coeficient'])\n",
    "\n",
    "coef_reg_mod.sort_values('Coeficient', ascending=False)"
   ]
  },
  {
   "cell_type": "code",
   "execution_count": 80,
   "metadata": {},
   "outputs": [],
   "source": [
    "predictions = reg_mod.predict(X_train)"
   ]
  },
  {
   "cell_type": "markdown",
   "metadata": {},
   "source": [
    "#### Muestro los resultados tanto en train  como en test. Así me aseguro de no estar en overfitting"
   ]
  },
  {
   "cell_type": "code",
   "execution_count": 81,
   "metadata": {},
   "outputs": [
    {
     "name": "stdout",
     "output_type": "stream",
     "text": [
      "MAE:  4585.698659119464\n",
      "MAPE:  54.0 %\n",
      "MSE:  83836711.89741418\n",
      "RMSE:  9156.238960261695\n",
      "R2_Score 0.6992203562833135\n"
     ]
    }
   ],
   "source": [
    "MAE = mean_absolute_error(y_train, predictions)\n",
    "MAPE = mean_absolute_percentage_error(y_train,predictions)\n",
    "MSE = mean_squared_error(y_train,predictions)\n",
    "RMSE = np.sqrt(mean_squared_error(y_train,predictions))\n",
    "RS_SCORE = r2_score(y_train,predictions)\n",
    "print(\"MAE: \", MAE)\n",
    "print(\"MAPE: \", MAPE.round(2)*100, \"%\")\n",
    "print(\"MSE: \", MSE)\n",
    "print(\"RMSE: \", RMSE)\n",
    "print(\"R2_Score\",RS_SCORE)"
   ]
  },
  {
   "cell_type": "code",
   "execution_count": 82,
   "metadata": {},
   "outputs": [
    {
     "name": "stdout",
     "output_type": "stream",
     "text": [
      "test MAE: 4768.59\n",
      "test MAPE: 53.0 %\n",
      "test MSE: 117283074.77\n",
      "Test RMSE:10829.7300\n",
      "RS_SCORE 0.67\n"
     ]
    }
   ],
   "source": [
    "print(\"test MAE:\", mean_absolute_error(y_test, reg_mod.predict(X_test)).round(2))\n",
    "print(\"test MAPE:\", mean_absolute_percentage_error(y_test, reg_mod.predict(X_test)).round(2)*100, \"%\")\n",
    "print(\"test MSE:\", mean_squared_error(y_test, reg_mod.predict(X_test)).round(2))\n",
    "print(\"Test RMSE:%0.4f\"% np.sqrt(mean_squared_error(y_test, reg_mod.predict(X_test))).round(2))\n",
    "print('RS_SCORE', r2_score(y_test,reg_mod.predict(X_test)).round(2))  "
   ]
  },
  {
   "cell_type": "code",
   "execution_count": null,
   "metadata": {},
   "outputs": [],
   "source": [
    "#Guardo el modelo\n",
    "\n",
    "with open('modelos/otros/lr_model','wb') as archivo_salida:\n",
    "    pickle.dump(reg_mod,archivo_salida)"
   ]
  },
  {
   "cell_type": "markdown",
   "metadata": {},
   "source": [
    "## Encontrando el mejor modelo con un Grid Search"
   ]
  },
  {
   "cell_type": "code",
   "execution_count": 83,
   "metadata": {},
   "outputs": [
    {
     "name": "stderr",
     "output_type": "stream",
     "text": [
      "C:\\Users\\ejgar\\AppData\\Local\\Programs\\Python\\Python37\\lib\\site-packages\\sklearn\\linear_model\\_base.py:145: FutureWarning: 'normalize' was deprecated in version 1.0 and will be removed in 1.2.\n",
      "If you wish to scale the data, use Pipeline with a StandardScaler in a preprocessing stage. To reproduce the previous behavior:\n",
      "\n",
      "from sklearn.pipeline import make_pipeline\n",
      "\n",
      "model = make_pipeline(StandardScaler(with_mean=False), LinearRegression())\n",
      "\n",
      "If you wish to pass a sample_weight parameter, you need to pass it as a fit parameter to each step of the pipeline as follows:\n",
      "\n",
      "kwargs = {s[0] + '__sample_weight': sample_weight for s in model.steps}\n",
      "model.fit(X, y, **kwargs)\n",
      "\n",
      "\n",
      "  FutureWarning,\n",
      "C:\\Users\\ejgar\\AppData\\Local\\Programs\\Python\\Python37\\lib\\site-packages\\sklearn\\linear_model\\_base.py:145: FutureWarning: 'normalize' was deprecated in version 1.0 and will be removed in 1.2.\n",
      "If you wish to scale the data, use Pipeline with a StandardScaler in a preprocessing stage. To reproduce the previous behavior:\n",
      "\n",
      "from sklearn.pipeline import make_pipeline\n",
      "\n",
      "model = make_pipeline(StandardScaler(with_mean=False), LinearRegression())\n",
      "\n",
      "If you wish to pass a sample_weight parameter, you need to pass it as a fit parameter to each step of the pipeline as follows:\n",
      "\n",
      "kwargs = {s[0] + '__sample_weight': sample_weight for s in model.steps}\n",
      "model.fit(X, y, **kwargs)\n",
      "\n",
      "\n",
      "  FutureWarning,\n",
      "C:\\Users\\ejgar\\AppData\\Local\\Programs\\Python\\Python37\\lib\\site-packages\\sklearn\\linear_model\\_base.py:145: FutureWarning: 'normalize' was deprecated in version 1.0 and will be removed in 1.2.\n",
      "If you wish to scale the data, use Pipeline with a StandardScaler in a preprocessing stage. To reproduce the previous behavior:\n",
      "\n",
      "from sklearn.pipeline import make_pipeline\n",
      "\n",
      "model = make_pipeline(StandardScaler(with_mean=False), LinearRegression())\n",
      "\n",
      "If you wish to pass a sample_weight parameter, you need to pass it as a fit parameter to each step of the pipeline as follows:\n",
      "\n",
      "kwargs = {s[0] + '__sample_weight': sample_weight for s in model.steps}\n",
      "model.fit(X, y, **kwargs)\n",
      "\n",
      "\n",
      "  FutureWarning,\n",
      "C:\\Users\\ejgar\\AppData\\Local\\Programs\\Python\\Python37\\lib\\site-packages\\sklearn\\linear_model\\_base.py:145: FutureWarning: 'normalize' was deprecated in version 1.0 and will be removed in 1.2.\n",
      "If you wish to scale the data, use Pipeline with a StandardScaler in a preprocessing stage. To reproduce the previous behavior:\n",
      "\n",
      "from sklearn.pipeline import make_pipeline\n",
      "\n",
      "model = make_pipeline(StandardScaler(with_mean=False), LinearRegression())\n",
      "\n",
      "If you wish to pass a sample_weight parameter, you need to pass it as a fit parameter to each step of the pipeline as follows:\n",
      "\n",
      "kwargs = {s[0] + '__sample_weight': sample_weight for s in model.steps}\n",
      "model.fit(X, y, **kwargs)\n",
      "\n",
      "\n",
      "  FutureWarning,\n",
      "C:\\Users\\ejgar\\AppData\\Local\\Programs\\Python\\Python37\\lib\\site-packages\\sklearn\\linear_model\\_base.py:145: FutureWarning: 'normalize' was deprecated in version 1.0 and will be removed in 1.2.\n",
      "If you wish to scale the data, use Pipeline with a StandardScaler in a preprocessing stage. To reproduce the previous behavior:\n",
      "\n",
      "from sklearn.pipeline import make_pipeline\n",
      "\n",
      "model = make_pipeline(StandardScaler(with_mean=False), LinearRegression())\n",
      "\n",
      "If you wish to pass a sample_weight parameter, you need to pass it as a fit parameter to each step of the pipeline as follows:\n",
      "\n",
      "kwargs = {s[0] + '__sample_weight': sample_weight for s in model.steps}\n",
      "model.fit(X, y, **kwargs)\n",
      "\n",
      "\n",
      "  FutureWarning,\n",
      "C:\\Users\\ejgar\\AppData\\Local\\Programs\\Python\\Python37\\lib\\site-packages\\sklearn\\linear_model\\_base.py:155: FutureWarning: 'normalize' was deprecated in version 1.0 and will be removed in 1.2. Please leave the normalize parameter to its default value to silence this warning. The default behavior of this estimator is to not do any normalization. If normalization is needed please use sklearn.preprocessing.StandardScaler instead.\n",
      "  FutureWarning,\n",
      "C:\\Users\\ejgar\\AppData\\Local\\Programs\\Python\\Python37\\lib\\site-packages\\sklearn\\linear_model\\_base.py:155: FutureWarning: 'normalize' was deprecated in version 1.0 and will be removed in 1.2. Please leave the normalize parameter to its default value to silence this warning. The default behavior of this estimator is to not do any normalization. If normalization is needed please use sklearn.preprocessing.StandardScaler instead.\n",
      "  FutureWarning,\n",
      "C:\\Users\\ejgar\\AppData\\Local\\Programs\\Python\\Python37\\lib\\site-packages\\sklearn\\linear_model\\_base.py:155: FutureWarning: 'normalize' was deprecated in version 1.0 and will be removed in 1.2. Please leave the normalize parameter to its default value to silence this warning. The default behavior of this estimator is to not do any normalization. If normalization is needed please use sklearn.preprocessing.StandardScaler instead.\n",
      "  FutureWarning,\n",
      "C:\\Users\\ejgar\\AppData\\Local\\Programs\\Python\\Python37\\lib\\site-packages\\sklearn\\linear_model\\_base.py:155: FutureWarning: 'normalize' was deprecated in version 1.0 and will be removed in 1.2. Please leave the normalize parameter to its default value to silence this warning. The default behavior of this estimator is to not do any normalization. If normalization is needed please use sklearn.preprocessing.StandardScaler instead.\n",
      "  FutureWarning,\n",
      "C:\\Users\\ejgar\\AppData\\Local\\Programs\\Python\\Python37\\lib\\site-packages\\sklearn\\linear_model\\_base.py:155: FutureWarning: 'normalize' was deprecated in version 1.0 and will be removed in 1.2. Please leave the normalize parameter to its default value to silence this warning. The default behavior of this estimator is to not do any normalization. If normalization is needed please use sklearn.preprocessing.StandardScaler instead.\n",
      "  FutureWarning,\n",
      "C:\\Users\\ejgar\\AppData\\Local\\Programs\\Python\\Python37\\lib\\site-packages\\sklearn\\linear_model\\_base.py:145: FutureWarning: 'normalize' was deprecated in version 1.0 and will be removed in 1.2.\n",
      "If you wish to scale the data, use Pipeline with a StandardScaler in a preprocessing stage. To reproduce the previous behavior:\n",
      "\n",
      "from sklearn.pipeline import make_pipeline\n",
      "\n",
      "model = make_pipeline(StandardScaler(with_mean=False), LinearRegression())\n",
      "\n",
      "If you wish to pass a sample_weight parameter, you need to pass it as a fit parameter to each step of the pipeline as follows:\n",
      "\n",
      "kwargs = {s[0] + '__sample_weight': sample_weight for s in model.steps}\n",
      "model.fit(X, y, **kwargs)\n",
      "\n",
      "\n",
      "  FutureWarning,\n",
      "C:\\Users\\ejgar\\AppData\\Local\\Programs\\Python\\Python37\\lib\\site-packages\\sklearn\\linear_model\\_base.py:145: FutureWarning: 'normalize' was deprecated in version 1.0 and will be removed in 1.2.\n",
      "If you wish to scale the data, use Pipeline with a StandardScaler in a preprocessing stage. To reproduce the previous behavior:\n",
      "\n",
      "from sklearn.pipeline import make_pipeline\n",
      "\n",
      "model = make_pipeline(StandardScaler(with_mean=False), LinearRegression())\n",
      "\n",
      "If you wish to pass a sample_weight parameter, you need to pass it as a fit parameter to each step of the pipeline as follows:\n",
      "\n",
      "kwargs = {s[0] + '__sample_weight': sample_weight for s in model.steps}\n",
      "model.fit(X, y, **kwargs)\n",
      "\n",
      "\n",
      "  FutureWarning,\n",
      "C:\\Users\\ejgar\\AppData\\Local\\Programs\\Python\\Python37\\lib\\site-packages\\sklearn\\linear_model\\_base.py:145: FutureWarning: 'normalize' was deprecated in version 1.0 and will be removed in 1.2.\n",
      "If you wish to scale the data, use Pipeline with a StandardScaler in a preprocessing stage. To reproduce the previous behavior:\n",
      "\n",
      "from sklearn.pipeline import make_pipeline\n",
      "\n",
      "model = make_pipeline(StandardScaler(with_mean=False), LinearRegression())\n",
      "\n",
      "If you wish to pass a sample_weight parameter, you need to pass it as a fit parameter to each step of the pipeline as follows:\n",
      "\n",
      "kwargs = {s[0] + '__sample_weight': sample_weight for s in model.steps}\n",
      "model.fit(X, y, **kwargs)\n",
      "\n",
      "\n",
      "  FutureWarning,\n",
      "C:\\Users\\ejgar\\AppData\\Local\\Programs\\Python\\Python37\\lib\\site-packages\\sklearn\\linear_model\\_base.py:145: FutureWarning: 'normalize' was deprecated in version 1.0 and will be removed in 1.2.\n",
      "If you wish to scale the data, use Pipeline with a StandardScaler in a preprocessing stage. To reproduce the previous behavior:\n",
      "\n",
      "from sklearn.pipeline import make_pipeline\n",
      "\n",
      "model = make_pipeline(StandardScaler(with_mean=False), LinearRegression())\n",
      "\n",
      "If you wish to pass a sample_weight parameter, you need to pass it as a fit parameter to each step of the pipeline as follows:\n",
      "\n",
      "kwargs = {s[0] + '__sample_weight': sample_weight for s in model.steps}\n",
      "model.fit(X, y, **kwargs)\n",
      "\n",
      "\n",
      "  FutureWarning,\n",
      "C:\\Users\\ejgar\\AppData\\Local\\Programs\\Python\\Python37\\lib\\site-packages\\sklearn\\linear_model\\_base.py:145: FutureWarning: 'normalize' was deprecated in version 1.0 and will be removed in 1.2.\n",
      "If you wish to scale the data, use Pipeline with a StandardScaler in a preprocessing stage. To reproduce the previous behavior:\n",
      "\n",
      "from sklearn.pipeline import make_pipeline\n",
      "\n",
      "model = make_pipeline(StandardScaler(with_mean=False), LinearRegression())\n",
      "\n",
      "If you wish to pass a sample_weight parameter, you need to pass it as a fit parameter to each step of the pipeline as follows:\n",
      "\n",
      "kwargs = {s[0] + '__sample_weight': sample_weight for s in model.steps}\n",
      "model.fit(X, y, **kwargs)\n",
      "\n",
      "\n",
      "  FutureWarning,\n",
      "C:\\Users\\ejgar\\AppData\\Local\\Programs\\Python\\Python37\\lib\\site-packages\\sklearn\\linear_model\\_base.py:155: FutureWarning: 'normalize' was deprecated in version 1.0 and will be removed in 1.2. Please leave the normalize parameter to its default value to silence this warning. The default behavior of this estimator is to not do any normalization. If normalization is needed please use sklearn.preprocessing.StandardScaler instead.\n",
      "  FutureWarning,\n",
      "C:\\Users\\ejgar\\AppData\\Local\\Programs\\Python\\Python37\\lib\\site-packages\\sklearn\\linear_model\\_base.py:155: FutureWarning: 'normalize' was deprecated in version 1.0 and will be removed in 1.2. Please leave the normalize parameter to its default value to silence this warning. The default behavior of this estimator is to not do any normalization. If normalization is needed please use sklearn.preprocessing.StandardScaler instead.\n",
      "  FutureWarning,\n",
      "C:\\Users\\ejgar\\AppData\\Local\\Programs\\Python\\Python37\\lib\\site-packages\\sklearn\\linear_model\\_base.py:155: FutureWarning: 'normalize' was deprecated in version 1.0 and will be removed in 1.2. Please leave the normalize parameter to its default value to silence this warning. The default behavior of this estimator is to not do any normalization. If normalization is needed please use sklearn.preprocessing.StandardScaler instead.\n",
      "  FutureWarning,\n",
      "C:\\Users\\ejgar\\AppData\\Local\\Programs\\Python\\Python37\\lib\\site-packages\\sklearn\\linear_model\\_base.py:155: FutureWarning: 'normalize' was deprecated in version 1.0 and will be removed in 1.2. Please leave the normalize parameter to its default value to silence this warning. The default behavior of this estimator is to not do any normalization. If normalization is needed please use sklearn.preprocessing.StandardScaler instead.\n",
      "  FutureWarning,\n",
      "C:\\Users\\ejgar\\AppData\\Local\\Programs\\Python\\Python37\\lib\\site-packages\\sklearn\\linear_model\\_base.py:155: FutureWarning: 'normalize' was deprecated in version 1.0 and will be removed in 1.2. Please leave the normalize parameter to its default value to silence this warning. The default behavior of this estimator is to not do any normalization. If normalization is needed please use sklearn.preprocessing.StandardScaler instead.\n",
      "  FutureWarning,\n",
      "C:\\Users\\ejgar\\AppData\\Local\\Programs\\Python\\Python37\\lib\\site-packages\\sklearn\\linear_model\\_base.py:145: FutureWarning: 'normalize' was deprecated in version 1.0 and will be removed in 1.2.\n",
      "If you wish to scale the data, use Pipeline with a StandardScaler in a preprocessing stage. To reproduce the previous behavior:\n",
      "\n",
      "from sklearn.pipeline import make_pipeline\n",
      "\n",
      "model = make_pipeline(StandardScaler(with_mean=False), LinearRegression())\n",
      "\n",
      "If you wish to pass a sample_weight parameter, you need to pass it as a fit parameter to each step of the pipeline as follows:\n",
      "\n",
      "kwargs = {s[0] + '__sample_weight': sample_weight for s in model.steps}\n",
      "model.fit(X, y, **kwargs)\n",
      "\n",
      "\n",
      "  FutureWarning,\n",
      "C:\\Users\\ejgar\\AppData\\Local\\Programs\\Python\\Python37\\lib\\site-packages\\sklearn\\linear_model\\_base.py:145: FutureWarning: 'normalize' was deprecated in version 1.0 and will be removed in 1.2.\n",
      "If you wish to scale the data, use Pipeline with a StandardScaler in a preprocessing stage. To reproduce the previous behavior:\n",
      "\n",
      "from sklearn.pipeline import make_pipeline\n",
      "\n",
      "model = make_pipeline(StandardScaler(with_mean=False), LinearRegression())\n",
      "\n",
      "If you wish to pass a sample_weight parameter, you need to pass it as a fit parameter to each step of the pipeline as follows:\n",
      "\n",
      "kwargs = {s[0] + '__sample_weight': sample_weight for s in model.steps}\n",
      "model.fit(X, y, **kwargs)\n",
      "\n",
      "\n",
      "  FutureWarning,\n",
      "C:\\Users\\ejgar\\AppData\\Local\\Programs\\Python\\Python37\\lib\\site-packages\\sklearn\\linear_model\\_base.py:145: FutureWarning: 'normalize' was deprecated in version 1.0 and will be removed in 1.2.\n",
      "If you wish to scale the data, use Pipeline with a StandardScaler in a preprocessing stage. To reproduce the previous behavior:\n",
      "\n",
      "from sklearn.pipeline import make_pipeline\n",
      "\n",
      "model = make_pipeline(StandardScaler(with_mean=False), LinearRegression())\n",
      "\n",
      "If you wish to pass a sample_weight parameter, you need to pass it as a fit parameter to each step of the pipeline as follows:\n",
      "\n",
      "kwargs = {s[0] + '__sample_weight': sample_weight for s in model.steps}\n",
      "model.fit(X, y, **kwargs)\n",
      "\n",
      "\n",
      "  FutureWarning,\n",
      "C:\\Users\\ejgar\\AppData\\Local\\Programs\\Python\\Python37\\lib\\site-packages\\sklearn\\linear_model\\_base.py:145: FutureWarning: 'normalize' was deprecated in version 1.0 and will be removed in 1.2.\n",
      "If you wish to scale the data, use Pipeline with a StandardScaler in a preprocessing stage. To reproduce the previous behavior:\n",
      "\n",
      "from sklearn.pipeline import make_pipeline\n",
      "\n",
      "model = make_pipeline(StandardScaler(with_mean=False), LinearRegression())\n",
      "\n",
      "If you wish to pass a sample_weight parameter, you need to pass it as a fit parameter to each step of the pipeline as follows:\n",
      "\n",
      "kwargs = {s[0] + '__sample_weight': sample_weight for s in model.steps}\n",
      "model.fit(X, y, **kwargs)\n",
      "\n",
      "\n",
      "  FutureWarning,\n",
      "C:\\Users\\ejgar\\AppData\\Local\\Programs\\Python\\Python37\\lib\\site-packages\\sklearn\\linear_model\\_base.py:145: FutureWarning: 'normalize' was deprecated in version 1.0 and will be removed in 1.2.\n",
      "If you wish to scale the data, use Pipeline with a StandardScaler in a preprocessing stage. To reproduce the previous behavior:\n",
      "\n",
      "from sklearn.pipeline import make_pipeline\n",
      "\n",
      "model = make_pipeline(StandardScaler(with_mean=False), LinearRegression())\n",
      "\n",
      "If you wish to pass a sample_weight parameter, you need to pass it as a fit parameter to each step of the pipeline as follows:\n",
      "\n",
      "kwargs = {s[0] + '__sample_weight': sample_weight for s in model.steps}\n",
      "model.fit(X, y, **kwargs)\n",
      "\n",
      "\n",
      "  FutureWarning,\n",
      "C:\\Users\\ejgar\\AppData\\Local\\Programs\\Python\\Python37\\lib\\site-packages\\sklearn\\linear_model\\_base.py:155: FutureWarning: 'normalize' was deprecated in version 1.0 and will be removed in 1.2. Please leave the normalize parameter to its default value to silence this warning. The default behavior of this estimator is to not do any normalization. If normalization is needed please use sklearn.preprocessing.StandardScaler instead.\n",
      "  FutureWarning,\n",
      "C:\\Users\\ejgar\\AppData\\Local\\Programs\\Python\\Python37\\lib\\site-packages\\sklearn\\linear_model\\_base.py:155: FutureWarning: 'normalize' was deprecated in version 1.0 and will be removed in 1.2. Please leave the normalize parameter to its default value to silence this warning. The default behavior of this estimator is to not do any normalization. If normalization is needed please use sklearn.preprocessing.StandardScaler instead.\n",
      "  FutureWarning,\n",
      "C:\\Users\\ejgar\\AppData\\Local\\Programs\\Python\\Python37\\lib\\site-packages\\sklearn\\linear_model\\_base.py:155: FutureWarning: 'normalize' was deprecated in version 1.0 and will be removed in 1.2. Please leave the normalize parameter to its default value to silence this warning. The default behavior of this estimator is to not do any normalization. If normalization is needed please use sklearn.preprocessing.StandardScaler instead.\n",
      "  FutureWarning,\n",
      "C:\\Users\\ejgar\\AppData\\Local\\Programs\\Python\\Python37\\lib\\site-packages\\sklearn\\linear_model\\_base.py:155: FutureWarning: 'normalize' was deprecated in version 1.0 and will be removed in 1.2. Please leave the normalize parameter to its default value to silence this warning. The default behavior of this estimator is to not do any normalization. If normalization is needed please use sklearn.preprocessing.StandardScaler instead.\n",
      "  FutureWarning,\n",
      "C:\\Users\\ejgar\\AppData\\Local\\Programs\\Python\\Python37\\lib\\site-packages\\sklearn\\linear_model\\_base.py:155: FutureWarning: 'normalize' was deprecated in version 1.0 and will be removed in 1.2. Please leave the normalize parameter to its default value to silence this warning. The default behavior of this estimator is to not do any normalization. If normalization is needed please use sklearn.preprocessing.StandardScaler instead.\n",
      "  FutureWarning,\n",
      "C:\\Users\\ejgar\\AppData\\Local\\Programs\\Python\\Python37\\lib\\site-packages\\sklearn\\linear_model\\_base.py:145: FutureWarning: 'normalize' was deprecated in version 1.0 and will be removed in 1.2.\n",
      "If you wish to scale the data, use Pipeline with a StandardScaler in a preprocessing stage. To reproduce the previous behavior:\n",
      "\n",
      "from sklearn.pipeline import make_pipeline\n",
      "\n",
      "model = make_pipeline(StandardScaler(with_mean=False), LinearRegression())\n",
      "\n",
      "If you wish to pass a sample_weight parameter, you need to pass it as a fit parameter to each step of the pipeline as follows:\n",
      "\n",
      "kwargs = {s[0] + '__sample_weight': sample_weight for s in model.steps}\n",
      "model.fit(X, y, **kwargs)\n",
      "\n",
      "\n",
      "  FutureWarning,\n",
      "C:\\Users\\ejgar\\AppData\\Local\\Programs\\Python\\Python37\\lib\\site-packages\\sklearn\\linear_model\\_base.py:145: FutureWarning: 'normalize' was deprecated in version 1.0 and will be removed in 1.2.\n",
      "If you wish to scale the data, use Pipeline with a StandardScaler in a preprocessing stage. To reproduce the previous behavior:\n",
      "\n",
      "from sklearn.pipeline import make_pipeline\n",
      "\n",
      "model = make_pipeline(StandardScaler(with_mean=False), LinearRegression())\n",
      "\n",
      "If you wish to pass a sample_weight parameter, you need to pass it as a fit parameter to each step of the pipeline as follows:\n",
      "\n",
      "kwargs = {s[0] + '__sample_weight': sample_weight for s in model.steps}\n",
      "model.fit(X, y, **kwargs)\n",
      "\n",
      "\n",
      "  FutureWarning,\n",
      "C:\\Users\\ejgar\\AppData\\Local\\Programs\\Python\\Python37\\lib\\site-packages\\sklearn\\linear_model\\_base.py:145: FutureWarning: 'normalize' was deprecated in version 1.0 and will be removed in 1.2.\n",
      "If you wish to scale the data, use Pipeline with a StandardScaler in a preprocessing stage. To reproduce the previous behavior:\n",
      "\n",
      "from sklearn.pipeline import make_pipeline\n",
      "\n",
      "model = make_pipeline(StandardScaler(with_mean=False), LinearRegression())\n",
      "\n",
      "If you wish to pass a sample_weight parameter, you need to pass it as a fit parameter to each step of the pipeline as follows:\n",
      "\n",
      "kwargs = {s[0] + '__sample_weight': sample_weight for s in model.steps}\n",
      "model.fit(X, y, **kwargs)\n",
      "\n",
      "\n",
      "  FutureWarning,\n",
      "C:\\Users\\ejgar\\AppData\\Local\\Programs\\Python\\Python37\\lib\\site-packages\\sklearn\\linear_model\\_base.py:145: FutureWarning: 'normalize' was deprecated in version 1.0 and will be removed in 1.2.\n",
      "If you wish to scale the data, use Pipeline with a StandardScaler in a preprocessing stage. To reproduce the previous behavior:\n",
      "\n",
      "from sklearn.pipeline import make_pipeline\n",
      "\n",
      "model = make_pipeline(StandardScaler(with_mean=False), LinearRegression())\n",
      "\n",
      "If you wish to pass a sample_weight parameter, you need to pass it as a fit parameter to each step of the pipeline as follows:\n",
      "\n",
      "kwargs = {s[0] + '__sample_weight': sample_weight for s in model.steps}\n",
      "model.fit(X, y, **kwargs)\n",
      "\n",
      "\n",
      "  FutureWarning,\n"
     ]
    },
    {
     "name": "stdout",
     "output_type": "stream",
     "text": [
      "LinearRegression(normalize=False)\n",
      "{'copy_X': True, 'fit_intercept': True, 'normalize': False}\n",
      "0.7006571174074228\n"
     ]
    },
    {
     "name": "stderr",
     "output_type": "stream",
     "text": [
      "C:\\Users\\ejgar\\AppData\\Local\\Programs\\Python\\Python37\\lib\\site-packages\\sklearn\\linear_model\\_base.py:145: FutureWarning: 'normalize' was deprecated in version 1.0 and will be removed in 1.2.\n",
      "If you wish to scale the data, use Pipeline with a StandardScaler in a preprocessing stage. To reproduce the previous behavior:\n",
      "\n",
      "from sklearn.pipeline import make_pipeline\n",
      "\n",
      "model = make_pipeline(StandardScaler(with_mean=False), LinearRegression())\n",
      "\n",
      "If you wish to pass a sample_weight parameter, you need to pass it as a fit parameter to each step of the pipeline as follows:\n",
      "\n",
      "kwargs = {s[0] + '__sample_weight': sample_weight for s in model.steps}\n",
      "model.fit(X, y, **kwargs)\n",
      "\n",
      "\n",
      "  FutureWarning,\n",
      "C:\\Users\\ejgar\\AppData\\Local\\Programs\\Python\\Python37\\lib\\site-packages\\sklearn\\linear_model\\_base.py:155: FutureWarning: 'normalize' was deprecated in version 1.0 and will be removed in 1.2. Please leave the normalize parameter to its default value to silence this warning. The default behavior of this estimator is to not do any normalization. If normalization is needed please use sklearn.preprocessing.StandardScaler instead.\n",
      "  FutureWarning,\n",
      "C:\\Users\\ejgar\\AppData\\Local\\Programs\\Python\\Python37\\lib\\site-packages\\sklearn\\linear_model\\_base.py:155: FutureWarning: 'normalize' was deprecated in version 1.0 and will be removed in 1.2. Please leave the normalize parameter to its default value to silence this warning. The default behavior of this estimator is to not do any normalization. If normalization is needed please use sklearn.preprocessing.StandardScaler instead.\n",
      "  FutureWarning,\n",
      "C:\\Users\\ejgar\\AppData\\Local\\Programs\\Python\\Python37\\lib\\site-packages\\sklearn\\linear_model\\_base.py:155: FutureWarning: 'normalize' was deprecated in version 1.0 and will be removed in 1.2. Please leave the normalize parameter to its default value to silence this warning. The default behavior of this estimator is to not do any normalization. If normalization is needed please use sklearn.preprocessing.StandardScaler instead.\n",
      "  FutureWarning,\n",
      "C:\\Users\\ejgar\\AppData\\Local\\Programs\\Python\\Python37\\lib\\site-packages\\sklearn\\linear_model\\_base.py:155: FutureWarning: 'normalize' was deprecated in version 1.0 and will be removed in 1.2. Please leave the normalize parameter to its default value to silence this warning. The default behavior of this estimator is to not do any normalization. If normalization is needed please use sklearn.preprocessing.StandardScaler instead.\n",
      "  FutureWarning,\n",
      "C:\\Users\\ejgar\\AppData\\Local\\Programs\\Python\\Python37\\lib\\site-packages\\sklearn\\linear_model\\_base.py:155: FutureWarning: 'normalize' was deprecated in version 1.0 and will be removed in 1.2. Please leave the normalize parameter to its default value to silence this warning. The default behavior of this estimator is to not do any normalization. If normalization is needed please use sklearn.preprocessing.StandardScaler instead.\n",
      "  FutureWarning,\n",
      "C:\\Users\\ejgar\\AppData\\Local\\Programs\\Python\\Python37\\lib\\site-packages\\sklearn\\linear_model\\_base.py:155: FutureWarning: 'normalize' was deprecated in version 1.0 and will be removed in 1.2. Please leave the normalize parameter to its default value to silence this warning. The default behavior of this estimator is to not do any normalization. If normalization is needed please use sklearn.preprocessing.StandardScaler instead.\n",
      "  FutureWarning,\n"
     ]
    }
   ],
   "source": [
    "parameters = {'fit_intercept':[True,False], 'normalize':[True,False], 'copy_X':[True, False]}\n",
    "\n",
    "grid = GridSearchCV(reg_mod, parameters, cv=5)\n",
    "grid.fit(X_train, y_train)\n"
   ]
  },
  {
   "cell_type": "code",
   "execution_count": 84,
   "metadata": {},
   "outputs": [
    {
     "name": "stdout",
     "output_type": "stream",
     "text": [
      "El mejor estimator es LinearRegression(normalize=False)\n",
      "Los mejores parámetros son {'copy_X': True, 'fit_intercept': True, 'normalize': False}\n",
      "El mejro score es 0.7006571174074228\n"
     ]
    }
   ],
   "source": [
    "print(\"El mejor estimator es\",grid.best_estimator_)\n",
    "print(\"Los mejores parámetros son\",grid.best_params_)\n",
    "print(\"El mejro score es\",grid.best_score_)"
   ]
  },
  {
   "cell_type": "code",
   "execution_count": 85,
   "metadata": {},
   "outputs": [
    {
     "name": "stderr",
     "output_type": "stream",
     "text": [
      "C:\\Users\\ejgar\\AppData\\Local\\Programs\\Python\\Python37\\lib\\site-packages\\sklearn\\linear_model\\_base.py:155: FutureWarning: 'normalize' was deprecated in version 1.0 and will be removed in 1.2. Please leave the normalize parameter to its default value to silence this warning. The default behavior of this estimator is to not do any normalization. If normalization is needed please use sklearn.preprocessing.StandardScaler instead.\n",
      "  FutureWarning,\n"
     ]
    }
   ],
   "source": [
    "reg_mod_2 = LinearRegression(copy_X = True, fit_intercept= True, normalize=False)\n",
    "reg_mod_2.fit(X_train,y_train)\n",
    "predictions_2 = reg_mod_2.predict(X_train)"
   ]
  },
  {
   "cell_type": "code",
   "execution_count": 87,
   "metadata": {},
   "outputs": [
    {
     "name": "stdout",
     "output_type": "stream",
     "text": [
      "train MAE:  4585.698659119464\n",
      "train MAPE:  54.0 %\n",
      "train MSE:  83836711.89741418\n",
      "train RMSE:  9156.238960261695\n",
      "train R2_Score 0.6992203562833135\n",
      "--------------------------------------------------\n",
      "test MAE: 4768.59\n",
      "test MAPE: 53.0 %\n",
      "test MSE: 117283074.77\n",
      "Test RMSE:10829.7300\n",
      "RS_SCORE 0.67\n"
     ]
    }
   ],
   "source": [
    "# Muestro de nuevo los resultado en train y test para comprobar si son mejores estos resultados que los anteriores\n",
    "MAE_2 = mean_absolute_error(y_train, predictions_2)\n",
    "MAPE_2 = mean_absolute_percentage_error(y_train,predictions_2)\n",
    "MSE_2 = mean_squared_error(y_train,predictions_2)\n",
    "RMSE_2 = np.sqrt(mean_squared_error(y_train,predictions_2))\n",
    "RS_SCORE_2 = r2_score(y_train,predictions_2)\n",
    "print(\"train MAE: \", MAE_2)\n",
    "print(\"train MAPE: \", MAPE_2.round(2)*100, \"%\")\n",
    "print(\"train MSE: \", MSE_2)\n",
    "print(\"train RMSE: \", RMSE_2)\n",
    "print(\"train R2_Score\",RS_SCORE_2)\n",
    "print(\"-\"*50)\n",
    "print(\"test MAE:\", mean_absolute_error(y_test, reg_mod_2.predict(X_test)).round(2))\n",
    "print(\"test MAPE:\", mean_absolute_percentage_error(y_test, reg_mod_2.predict(X_test)).round(2)*100, \"%\")\n",
    "print(\"test MSE:\", mean_squared_error(y_test, reg_mod_2.predict(X_test)).round(2))\n",
    "print(\"Test RMSE:%0.4f\"% np.sqrt(mean_squared_error(y_test, reg_mod_2.predict(X_test))).round(2))\n",
    "print('RS_SCORE', r2_score(y_test,reg_mod_2.predict(X_test)).round(2)) "
   ]
  },
  {
   "cell_type": "markdown",
   "metadata": {},
   "source": [
    "# Polynomial Regression"
   ]
  },
  {
   "cell_type": "code",
   "execution_count": 88,
   "metadata": {},
   "outputs": [
    {
     "data": {
      "text/plain": [
       "LinearRegression()"
      ]
     },
     "execution_count": 88,
     "metadata": {},
     "output_type": "execute_result"
    }
   ],
   "source": [
    "poly_reg = PolynomialFeatures(degree=4)\n",
    "poly_reg.fit(X_train)\n",
    "X_poly_train = poly_reg.transform(X_train) \n",
    "\n",
    "pol_reg = LinearRegression()\n",
    "pol_reg.fit(X_poly_train, y_train)"
   ]
  },
  {
   "cell_type": "code",
   "execution_count": 89,
   "metadata": {},
   "outputs": [
    {
     "data": {
      "text/plain": [
       "array([17574.02038854, 12502.6809426 ,  7464.80885143, ...,\n",
       "       18869.7840265 ,  4635.37571801, -1397.30565997])"
      ]
     },
     "execution_count": 89,
     "metadata": {},
     "output_type": "execute_result"
    }
   ],
   "source": [
    "predictions_polynomial = pol_reg.predict(X_poly_train)\n",
    "predictions_polynomial"
   ]
  },
  {
   "cell_type": "code",
   "execution_count": 90,
   "metadata": {},
   "outputs": [
    {
     "name": "stdout",
     "output_type": "stream",
     "text": [
      "train MAE:  3452.8543868993956\n",
      "train MAPE:  37.159355462057\n",
      "train MSE:  46631811.17479712\n",
      "train RMSE:  6828.748873314725\n",
      "train R2_Score 0.8326997894647645\n",
      "--------------------------------------------------\n",
      "test MAE: 2987.31\n",
      "test MAPE: 35.0 %\n",
      "test MSE: 25979246.74\n",
      "Test RMSE:5096.9800\n",
      "RS_SCORE 0.93\n"
     ]
    }
   ],
   "source": [
    "MAE_pol = mean_absolute_error(y_train, predictions_polynomial)\n",
    "MAPE_pol = mean_absolute_percentage_error(y_train,predictions_polynomial)\n",
    "MSE_pol = mean_squared_error(y_train,predictions_polynomial)\n",
    "RMSE_pol = np.sqrt(mean_squared_error(y_train,predictions_polynomial))\n",
    "RS_SCORE_pol = r2_score(y_train,predictions_polynomial)\n",
    "print(\"train MAE: \", MAE_pol)\n",
    "print(\"train MAPE: \",MAPE_pol*100)\n",
    "print(\"train MSE: \", MSE_pol)\n",
    "print(\"train RMSE: \", RMSE_pol)\n",
    "print(\"train R2_Score\",RS_SCORE_pol)\n",
    "print(\"-\"*50)\n",
    "poly_reg_test = PolynomialFeatures(degree=4)\n",
    "poly_reg_test.fit(X_train)\n",
    "X_poly_test = poly_reg.transform(X_test) \n",
    "\n",
    "pol_reg_test = LinearRegression()\n",
    "pol_reg_test.fit(X_poly_test, y_test)\n",
    "print(\"test MAE:\", mean_absolute_error(y_test, pol_reg_test.predict(X_poly_test)).round(2))\n",
    "print(\"test MAPE:\", mean_absolute_percentage_error(y_test, pol_reg_test.predict(X_poly_test)).round(2)*100, \"%\")\n",
    "print(\"test MSE:\", mean_squared_error(y_test, pol_reg_test.predict(X_poly_test)).round(2))\n",
    "print(\"Test RMSE:%0.4f\"% np.sqrt(mean_squared_error(y_test, pol_reg_test.predict(X_poly_test))).round(2))\n",
    "print('RS_SCORE', r2_score(y_test,pol_reg_test.predict(X_poly_test)).round(2)) "
   ]
  },
  {
   "cell_type": "code",
   "execution_count": null,
   "metadata": {},
   "outputs": [],
   "source": [
    "#Guardo el mejor modelo de polynomial\n",
    "\n",
    "with open('modelos/otros/polynomial_model','wb') as archivo_salida:\n",
    "    pickle.dump(pol_reg_test,archivo_salida)"
   ]
  },
  {
   "cell_type": "markdown",
   "metadata": {},
   "source": [
    "## Hago un Gridsearch para ver si consigo un mejor modelo"
   ]
  },
  {
   "cell_type": "code",
   "execution_count": 91,
   "metadata": {},
   "outputs": [
    {
     "name": "stderr",
     "output_type": "stream",
     "text": [
      "C:\\Users\\ejgar\\AppData\\Local\\Programs\\Python\\Python37\\lib\\site-packages\\sklearn\\linear_model\\_base.py:145: FutureWarning: 'normalize' was deprecated in version 1.0 and will be removed in 1.2.\n",
      "If you wish to scale the data, use Pipeline with a StandardScaler in a preprocessing stage. To reproduce the previous behavior:\n",
      "\n",
      "from sklearn.pipeline import make_pipeline\n",
      "\n",
      "model = make_pipeline(StandardScaler(with_mean=False), LinearRegression())\n",
      "\n",
      "If you wish to pass a sample_weight parameter, you need to pass it as a fit parameter to each step of the pipeline as follows:\n",
      "\n",
      "kwargs = {s[0] + '__sample_weight': sample_weight for s in model.steps}\n",
      "model.fit(X, y, **kwargs)\n",
      "\n",
      "\n",
      "  FutureWarning,\n",
      "C:\\Users\\ejgar\\AppData\\Local\\Programs\\Python\\Python37\\lib\\site-packages\\sklearn\\linear_model\\_base.py:145: FutureWarning: 'normalize' was deprecated in version 1.0 and will be removed in 1.2.\n",
      "If you wish to scale the data, use Pipeline with a StandardScaler in a preprocessing stage. To reproduce the previous behavior:\n",
      "\n",
      "from sklearn.pipeline import make_pipeline\n",
      "\n",
      "model = make_pipeline(StandardScaler(with_mean=False), LinearRegression())\n",
      "\n",
      "If you wish to pass a sample_weight parameter, you need to pass it as a fit parameter to each step of the pipeline as follows:\n",
      "\n",
      "kwargs = {s[0] + '__sample_weight': sample_weight for s in model.steps}\n",
      "model.fit(X, y, **kwargs)\n",
      "\n",
      "\n",
      "  FutureWarning,\n",
      "C:\\Users\\ejgar\\AppData\\Local\\Programs\\Python\\Python37\\lib\\site-packages\\sklearn\\linear_model\\_base.py:145: FutureWarning: 'normalize' was deprecated in version 1.0 and will be removed in 1.2.\n",
      "If you wish to scale the data, use Pipeline with a StandardScaler in a preprocessing stage. To reproduce the previous behavior:\n",
      "\n",
      "from sklearn.pipeline import make_pipeline\n",
      "\n",
      "model = make_pipeline(StandardScaler(with_mean=False), LinearRegression())\n",
      "\n",
      "If you wish to pass a sample_weight parameter, you need to pass it as a fit parameter to each step of the pipeline as follows:\n",
      "\n",
      "kwargs = {s[0] + '__sample_weight': sample_weight for s in model.steps}\n",
      "model.fit(X, y, **kwargs)\n",
      "\n",
      "\n",
      "  FutureWarning,\n",
      "C:\\Users\\ejgar\\AppData\\Local\\Programs\\Python\\Python37\\lib\\site-packages\\sklearn\\linear_model\\_base.py:145: FutureWarning: 'normalize' was deprecated in version 1.0 and will be removed in 1.2.\n",
      "If you wish to scale the data, use Pipeline with a StandardScaler in a preprocessing stage. To reproduce the previous behavior:\n",
      "\n",
      "from sklearn.pipeline import make_pipeline\n",
      "\n",
      "model = make_pipeline(StandardScaler(with_mean=False), LinearRegression())\n",
      "\n",
      "If you wish to pass a sample_weight parameter, you need to pass it as a fit parameter to each step of the pipeline as follows:\n",
      "\n",
      "kwargs = {s[0] + '__sample_weight': sample_weight for s in model.steps}\n",
      "model.fit(X, y, **kwargs)\n",
      "\n",
      "\n",
      "  FutureWarning,\n",
      "C:\\Users\\ejgar\\AppData\\Local\\Programs\\Python\\Python37\\lib\\site-packages\\sklearn\\linear_model\\_base.py:145: FutureWarning: 'normalize' was deprecated in version 1.0 and will be removed in 1.2.\n",
      "If you wish to scale the data, use Pipeline with a StandardScaler in a preprocessing stage. To reproduce the previous behavior:\n",
      "\n",
      "from sklearn.pipeline import make_pipeline\n",
      "\n",
      "model = make_pipeline(StandardScaler(with_mean=False), LinearRegression())\n",
      "\n",
      "If you wish to pass a sample_weight parameter, you need to pass it as a fit parameter to each step of the pipeline as follows:\n",
      "\n",
      "kwargs = {s[0] + '__sample_weight': sample_weight for s in model.steps}\n",
      "model.fit(X, y, **kwargs)\n",
      "\n",
      "\n",
      "  FutureWarning,\n",
      "C:\\Users\\ejgar\\AppData\\Local\\Programs\\Python\\Python37\\lib\\site-packages\\sklearn\\linear_model\\_base.py:155: FutureWarning: 'normalize' was deprecated in version 1.0 and will be removed in 1.2. Please leave the normalize parameter to its default value to silence this warning. The default behavior of this estimator is to not do any normalization. If normalization is needed please use sklearn.preprocessing.StandardScaler instead.\n",
      "  FutureWarning,\n",
      "C:\\Users\\ejgar\\AppData\\Local\\Programs\\Python\\Python37\\lib\\site-packages\\sklearn\\linear_model\\_base.py:155: FutureWarning: 'normalize' was deprecated in version 1.0 and will be removed in 1.2. Please leave the normalize parameter to its default value to silence this warning. The default behavior of this estimator is to not do any normalization. If normalization is needed please use sklearn.preprocessing.StandardScaler instead.\n",
      "  FutureWarning,\n",
      "C:\\Users\\ejgar\\AppData\\Local\\Programs\\Python\\Python37\\lib\\site-packages\\sklearn\\linear_model\\_base.py:155: FutureWarning: 'normalize' was deprecated in version 1.0 and will be removed in 1.2. Please leave the normalize parameter to its default value to silence this warning. The default behavior of this estimator is to not do any normalization. If normalization is needed please use sklearn.preprocessing.StandardScaler instead.\n",
      "  FutureWarning,\n",
      "C:\\Users\\ejgar\\AppData\\Local\\Programs\\Python\\Python37\\lib\\site-packages\\sklearn\\linear_model\\_base.py:155: FutureWarning: 'normalize' was deprecated in version 1.0 and will be removed in 1.2. Please leave the normalize parameter to its default value to silence this warning. The default behavior of this estimator is to not do any normalization. If normalization is needed please use sklearn.preprocessing.StandardScaler instead.\n",
      "  FutureWarning,\n",
      "C:\\Users\\ejgar\\AppData\\Local\\Programs\\Python\\Python37\\lib\\site-packages\\sklearn\\linear_model\\_base.py:155: FutureWarning: 'normalize' was deprecated in version 1.0 and will be removed in 1.2. Please leave the normalize parameter to its default value to silence this warning. The default behavior of this estimator is to not do any normalization. If normalization is needed please use sklearn.preprocessing.StandardScaler instead.\n",
      "  FutureWarning,\n",
      "C:\\Users\\ejgar\\AppData\\Local\\Programs\\Python\\Python37\\lib\\site-packages\\sklearn\\linear_model\\_base.py:145: FutureWarning: 'normalize' was deprecated in version 1.0 and will be removed in 1.2.\n",
      "If you wish to scale the data, use Pipeline with a StandardScaler in a preprocessing stage. To reproduce the previous behavior:\n",
      "\n",
      "from sklearn.pipeline import make_pipeline\n",
      "\n",
      "model = make_pipeline(StandardScaler(with_mean=False), LinearRegression())\n",
      "\n",
      "If you wish to pass a sample_weight parameter, you need to pass it as a fit parameter to each step of the pipeline as follows:\n",
      "\n",
      "kwargs = {s[0] + '__sample_weight': sample_weight for s in model.steps}\n",
      "model.fit(X, y, **kwargs)\n",
      "\n",
      "\n",
      "  FutureWarning,\n",
      "C:\\Users\\ejgar\\AppData\\Local\\Programs\\Python\\Python37\\lib\\site-packages\\sklearn\\linear_model\\_base.py:145: FutureWarning: 'normalize' was deprecated in version 1.0 and will be removed in 1.2.\n",
      "If you wish to scale the data, use Pipeline with a StandardScaler in a preprocessing stage. To reproduce the previous behavior:\n",
      "\n",
      "from sklearn.pipeline import make_pipeline\n",
      "\n",
      "model = make_pipeline(StandardScaler(with_mean=False), LinearRegression())\n",
      "\n",
      "If you wish to pass a sample_weight parameter, you need to pass it as a fit parameter to each step of the pipeline as follows:\n",
      "\n",
      "kwargs = {s[0] + '__sample_weight': sample_weight for s in model.steps}\n",
      "model.fit(X, y, **kwargs)\n",
      "\n",
      "\n",
      "  FutureWarning,\n",
      "C:\\Users\\ejgar\\AppData\\Local\\Programs\\Python\\Python37\\lib\\site-packages\\sklearn\\linear_model\\_base.py:145: FutureWarning: 'normalize' was deprecated in version 1.0 and will be removed in 1.2.\n",
      "If you wish to scale the data, use Pipeline with a StandardScaler in a preprocessing stage. To reproduce the previous behavior:\n",
      "\n",
      "from sklearn.pipeline import make_pipeline\n",
      "\n",
      "model = make_pipeline(StandardScaler(with_mean=False), LinearRegression())\n",
      "\n",
      "If you wish to pass a sample_weight parameter, you need to pass it as a fit parameter to each step of the pipeline as follows:\n",
      "\n",
      "kwargs = {s[0] + '__sample_weight': sample_weight for s in model.steps}\n",
      "model.fit(X, y, **kwargs)\n",
      "\n",
      "\n",
      "  FutureWarning,\n",
      "C:\\Users\\ejgar\\AppData\\Local\\Programs\\Python\\Python37\\lib\\site-packages\\sklearn\\linear_model\\_base.py:145: FutureWarning: 'normalize' was deprecated in version 1.0 and will be removed in 1.2.\n",
      "If you wish to scale the data, use Pipeline with a StandardScaler in a preprocessing stage. To reproduce the previous behavior:\n",
      "\n",
      "from sklearn.pipeline import make_pipeline\n",
      "\n",
      "model = make_pipeline(StandardScaler(with_mean=False), LinearRegression())\n",
      "\n",
      "If you wish to pass a sample_weight parameter, you need to pass it as a fit parameter to each step of the pipeline as follows:\n",
      "\n",
      "kwargs = {s[0] + '__sample_weight': sample_weight for s in model.steps}\n",
      "model.fit(X, y, **kwargs)\n",
      "\n",
      "\n",
      "  FutureWarning,\n",
      "C:\\Users\\ejgar\\AppData\\Local\\Programs\\Python\\Python37\\lib\\site-packages\\sklearn\\linear_model\\_base.py:145: FutureWarning: 'normalize' was deprecated in version 1.0 and will be removed in 1.2.\n",
      "If you wish to scale the data, use Pipeline with a StandardScaler in a preprocessing stage. To reproduce the previous behavior:\n",
      "\n",
      "from sklearn.pipeline import make_pipeline\n",
      "\n",
      "model = make_pipeline(StandardScaler(with_mean=False), LinearRegression())\n",
      "\n",
      "If you wish to pass a sample_weight parameter, you need to pass it as a fit parameter to each step of the pipeline as follows:\n",
      "\n",
      "kwargs = {s[0] + '__sample_weight': sample_weight for s in model.steps}\n",
      "model.fit(X, y, **kwargs)\n",
      "\n",
      "\n",
      "  FutureWarning,\n",
      "C:\\Users\\ejgar\\AppData\\Local\\Programs\\Python\\Python37\\lib\\site-packages\\sklearn\\linear_model\\_base.py:155: FutureWarning: 'normalize' was deprecated in version 1.0 and will be removed in 1.2. Please leave the normalize parameter to its default value to silence this warning. The default behavior of this estimator is to not do any normalization. If normalization is needed please use sklearn.preprocessing.StandardScaler instead.\n",
      "  FutureWarning,\n",
      "C:\\Users\\ejgar\\AppData\\Local\\Programs\\Python\\Python37\\lib\\site-packages\\sklearn\\linear_model\\_base.py:155: FutureWarning: 'normalize' was deprecated in version 1.0 and will be removed in 1.2. Please leave the normalize parameter to its default value to silence this warning. The default behavior of this estimator is to not do any normalization. If normalization is needed please use sklearn.preprocessing.StandardScaler instead.\n",
      "  FutureWarning,\n",
      "C:\\Users\\ejgar\\AppData\\Local\\Programs\\Python\\Python37\\lib\\site-packages\\sklearn\\linear_model\\_base.py:155: FutureWarning: 'normalize' was deprecated in version 1.0 and will be removed in 1.2. Please leave the normalize parameter to its default value to silence this warning. The default behavior of this estimator is to not do any normalization. If normalization is needed please use sklearn.preprocessing.StandardScaler instead.\n",
      "  FutureWarning,\n",
      "C:\\Users\\ejgar\\AppData\\Local\\Programs\\Python\\Python37\\lib\\site-packages\\sklearn\\linear_model\\_base.py:155: FutureWarning: 'normalize' was deprecated in version 1.0 and will be removed in 1.2. Please leave the normalize parameter to its default value to silence this warning. The default behavior of this estimator is to not do any normalization. If normalization is needed please use sklearn.preprocessing.StandardScaler instead.\n",
      "  FutureWarning,\n",
      "C:\\Users\\ejgar\\AppData\\Local\\Programs\\Python\\Python37\\lib\\site-packages\\sklearn\\linear_model\\_base.py:155: FutureWarning: 'normalize' was deprecated in version 1.0 and will be removed in 1.2. Please leave the normalize parameter to its default value to silence this warning. The default behavior of this estimator is to not do any normalization. If normalization is needed please use sklearn.preprocessing.StandardScaler instead.\n",
      "  FutureWarning,\n",
      "C:\\Users\\ejgar\\AppData\\Local\\Programs\\Python\\Python37\\lib\\site-packages\\sklearn\\linear_model\\_base.py:145: FutureWarning: 'normalize' was deprecated in version 1.0 and will be removed in 1.2.\n",
      "If you wish to scale the data, use Pipeline with a StandardScaler in a preprocessing stage. To reproduce the previous behavior:\n",
      "\n",
      "from sklearn.pipeline import make_pipeline\n",
      "\n",
      "model = make_pipeline(StandardScaler(with_mean=False), LinearRegression())\n",
      "\n",
      "If you wish to pass a sample_weight parameter, you need to pass it as a fit parameter to each step of the pipeline as follows:\n",
      "\n",
      "kwargs = {s[0] + '__sample_weight': sample_weight for s in model.steps}\n",
      "model.fit(X, y, **kwargs)\n",
      "\n",
      "\n",
      "  FutureWarning,\n",
      "C:\\Users\\ejgar\\AppData\\Local\\Programs\\Python\\Python37\\lib\\site-packages\\sklearn\\linear_model\\_base.py:145: FutureWarning: 'normalize' was deprecated in version 1.0 and will be removed in 1.2.\n",
      "If you wish to scale the data, use Pipeline with a StandardScaler in a preprocessing stage. To reproduce the previous behavior:\n",
      "\n",
      "from sklearn.pipeline import make_pipeline\n",
      "\n",
      "model = make_pipeline(StandardScaler(with_mean=False), LinearRegression())\n",
      "\n",
      "If you wish to pass a sample_weight parameter, you need to pass it as a fit parameter to each step of the pipeline as follows:\n",
      "\n",
      "kwargs = {s[0] + '__sample_weight': sample_weight for s in model.steps}\n",
      "model.fit(X, y, **kwargs)\n",
      "\n",
      "\n",
      "  FutureWarning,\n",
      "C:\\Users\\ejgar\\AppData\\Local\\Programs\\Python\\Python37\\lib\\site-packages\\sklearn\\linear_model\\_base.py:145: FutureWarning: 'normalize' was deprecated in version 1.0 and will be removed in 1.2.\n",
      "If you wish to scale the data, use Pipeline with a StandardScaler in a preprocessing stage. To reproduce the previous behavior:\n",
      "\n",
      "from sklearn.pipeline import make_pipeline\n",
      "\n",
      "model = make_pipeline(StandardScaler(with_mean=False), LinearRegression())\n",
      "\n",
      "If you wish to pass a sample_weight parameter, you need to pass it as a fit parameter to each step of the pipeline as follows:\n",
      "\n",
      "kwargs = {s[0] + '__sample_weight': sample_weight for s in model.steps}\n",
      "model.fit(X, y, **kwargs)\n",
      "\n",
      "\n",
      "  FutureWarning,\n",
      "C:\\Users\\ejgar\\AppData\\Local\\Programs\\Python\\Python37\\lib\\site-packages\\sklearn\\linear_model\\_base.py:145: FutureWarning: 'normalize' was deprecated in version 1.0 and will be removed in 1.2.\n",
      "If you wish to scale the data, use Pipeline with a StandardScaler in a preprocessing stage. To reproduce the previous behavior:\n",
      "\n",
      "from sklearn.pipeline import make_pipeline\n",
      "\n",
      "model = make_pipeline(StandardScaler(with_mean=False), LinearRegression())\n",
      "\n",
      "If you wish to pass a sample_weight parameter, you need to pass it as a fit parameter to each step of the pipeline as follows:\n",
      "\n",
      "kwargs = {s[0] + '__sample_weight': sample_weight for s in model.steps}\n",
      "model.fit(X, y, **kwargs)\n",
      "\n",
      "\n",
      "  FutureWarning,\n",
      "C:\\Users\\ejgar\\AppData\\Local\\Programs\\Python\\Python37\\lib\\site-packages\\sklearn\\linear_model\\_base.py:145: FutureWarning: 'normalize' was deprecated in version 1.0 and will be removed in 1.2.\n",
      "If you wish to scale the data, use Pipeline with a StandardScaler in a preprocessing stage. To reproduce the previous behavior:\n",
      "\n",
      "from sklearn.pipeline import make_pipeline\n",
      "\n",
      "model = make_pipeline(StandardScaler(with_mean=False), LinearRegression())\n",
      "\n",
      "If you wish to pass a sample_weight parameter, you need to pass it as a fit parameter to each step of the pipeline as follows:\n",
      "\n",
      "kwargs = {s[0] + '__sample_weight': sample_weight for s in model.steps}\n",
      "model.fit(X, y, **kwargs)\n",
      "\n",
      "\n",
      "  FutureWarning,\n",
      "C:\\Users\\ejgar\\AppData\\Local\\Programs\\Python\\Python37\\lib\\site-packages\\sklearn\\linear_model\\_base.py:155: FutureWarning: 'normalize' was deprecated in version 1.0 and will be removed in 1.2. Please leave the normalize parameter to its default value to silence this warning. The default behavior of this estimator is to not do any normalization. If normalization is needed please use sklearn.preprocessing.StandardScaler instead.\n",
      "  FutureWarning,\n",
      "C:\\Users\\ejgar\\AppData\\Local\\Programs\\Python\\Python37\\lib\\site-packages\\sklearn\\linear_model\\_base.py:155: FutureWarning: 'normalize' was deprecated in version 1.0 and will be removed in 1.2. Please leave the normalize parameter to its default value to silence this warning. The default behavior of this estimator is to not do any normalization. If normalization is needed please use sklearn.preprocessing.StandardScaler instead.\n",
      "  FutureWarning,\n",
      "C:\\Users\\ejgar\\AppData\\Local\\Programs\\Python\\Python37\\lib\\site-packages\\sklearn\\linear_model\\_base.py:155: FutureWarning: 'normalize' was deprecated in version 1.0 and will be removed in 1.2. Please leave the normalize parameter to its default value to silence this warning. The default behavior of this estimator is to not do any normalization. If normalization is needed please use sklearn.preprocessing.StandardScaler instead.\n",
      "  FutureWarning,\n",
      "C:\\Users\\ejgar\\AppData\\Local\\Programs\\Python\\Python37\\lib\\site-packages\\sklearn\\linear_model\\_base.py:155: FutureWarning: 'normalize' was deprecated in version 1.0 and will be removed in 1.2. Please leave the normalize parameter to its default value to silence this warning. The default behavior of this estimator is to not do any normalization. If normalization is needed please use sklearn.preprocessing.StandardScaler instead.\n",
      "  FutureWarning,\n",
      "C:\\Users\\ejgar\\AppData\\Local\\Programs\\Python\\Python37\\lib\\site-packages\\sklearn\\linear_model\\_base.py:155: FutureWarning: 'normalize' was deprecated in version 1.0 and will be removed in 1.2. Please leave the normalize parameter to its default value to silence this warning. The default behavior of this estimator is to not do any normalization. If normalization is needed please use sklearn.preprocessing.StandardScaler instead.\n",
      "  FutureWarning,\n",
      "C:\\Users\\ejgar\\AppData\\Local\\Programs\\Python\\Python37\\lib\\site-packages\\sklearn\\linear_model\\_base.py:145: FutureWarning: 'normalize' was deprecated in version 1.0 and will be removed in 1.2.\n",
      "If you wish to scale the data, use Pipeline with a StandardScaler in a preprocessing stage. To reproduce the previous behavior:\n",
      "\n",
      "from sklearn.pipeline import make_pipeline\n",
      "\n",
      "model = make_pipeline(StandardScaler(with_mean=False), LinearRegression())\n",
      "\n",
      "If you wish to pass a sample_weight parameter, you need to pass it as a fit parameter to each step of the pipeline as follows:\n",
      "\n",
      "kwargs = {s[0] + '__sample_weight': sample_weight for s in model.steps}\n",
      "model.fit(X, y, **kwargs)\n",
      "\n",
      "\n",
      "  FutureWarning,\n",
      "C:\\Users\\ejgar\\AppData\\Local\\Programs\\Python\\Python37\\lib\\site-packages\\sklearn\\linear_model\\_base.py:145: FutureWarning: 'normalize' was deprecated in version 1.0 and will be removed in 1.2.\n",
      "If you wish to scale the data, use Pipeline with a StandardScaler in a preprocessing stage. To reproduce the previous behavior:\n",
      "\n",
      "from sklearn.pipeline import make_pipeline\n",
      "\n",
      "model = make_pipeline(StandardScaler(with_mean=False), LinearRegression())\n",
      "\n",
      "If you wish to pass a sample_weight parameter, you need to pass it as a fit parameter to each step of the pipeline as follows:\n",
      "\n",
      "kwargs = {s[0] + '__sample_weight': sample_weight for s in model.steps}\n",
      "model.fit(X, y, **kwargs)\n",
      "\n",
      "\n",
      "  FutureWarning,\n",
      "C:\\Users\\ejgar\\AppData\\Local\\Programs\\Python\\Python37\\lib\\site-packages\\sklearn\\linear_model\\_base.py:145: FutureWarning: 'normalize' was deprecated in version 1.0 and will be removed in 1.2.\n",
      "If you wish to scale the data, use Pipeline with a StandardScaler in a preprocessing stage. To reproduce the previous behavior:\n",
      "\n",
      "from sklearn.pipeline import make_pipeline\n",
      "\n",
      "model = make_pipeline(StandardScaler(with_mean=False), LinearRegression())\n",
      "\n",
      "If you wish to pass a sample_weight parameter, you need to pass it as a fit parameter to each step of the pipeline as follows:\n",
      "\n",
      "kwargs = {s[0] + '__sample_weight': sample_weight for s in model.steps}\n",
      "model.fit(X, y, **kwargs)\n",
      "\n",
      "\n",
      "  FutureWarning,\n",
      "C:\\Users\\ejgar\\AppData\\Local\\Programs\\Python\\Python37\\lib\\site-packages\\sklearn\\linear_model\\_base.py:145: FutureWarning: 'normalize' was deprecated in version 1.0 and will be removed in 1.2.\n",
      "If you wish to scale the data, use Pipeline with a StandardScaler in a preprocessing stage. To reproduce the previous behavior:\n",
      "\n",
      "from sklearn.pipeline import make_pipeline\n",
      "\n",
      "model = make_pipeline(StandardScaler(with_mean=False), LinearRegression())\n",
      "\n",
      "If you wish to pass a sample_weight parameter, you need to pass it as a fit parameter to each step of the pipeline as follows:\n",
      "\n",
      "kwargs = {s[0] + '__sample_weight': sample_weight for s in model.steps}\n",
      "model.fit(X, y, **kwargs)\n",
      "\n",
      "\n",
      "  FutureWarning,\n",
      "C:\\Users\\ejgar\\AppData\\Local\\Programs\\Python\\Python37\\lib\\site-packages\\sklearn\\linear_model\\_base.py:145: FutureWarning: 'normalize' was deprecated in version 1.0 and will be removed in 1.2.\n",
      "If you wish to scale the data, use Pipeline with a StandardScaler in a preprocessing stage. To reproduce the previous behavior:\n",
      "\n",
      "from sklearn.pipeline import make_pipeline\n",
      "\n",
      "model = make_pipeline(StandardScaler(with_mean=False), LinearRegression())\n",
      "\n",
      "If you wish to pass a sample_weight parameter, you need to pass it as a fit parameter to each step of the pipeline as follows:\n",
      "\n",
      "kwargs = {s[0] + '__sample_weight': sample_weight for s in model.steps}\n",
      "model.fit(X, y, **kwargs)\n",
      "\n",
      "\n",
      "  FutureWarning,\n",
      "C:\\Users\\ejgar\\AppData\\Local\\Programs\\Python\\Python37\\lib\\site-packages\\sklearn\\linear_model\\_base.py:155: FutureWarning: 'normalize' was deprecated in version 1.0 and will be removed in 1.2. Please leave the normalize parameter to its default value to silence this warning. The default behavior of this estimator is to not do any normalization. If normalization is needed please use sklearn.preprocessing.StandardScaler instead.\n",
      "  FutureWarning,\n",
      "C:\\Users\\ejgar\\AppData\\Local\\Programs\\Python\\Python37\\lib\\site-packages\\sklearn\\linear_model\\_base.py:155: FutureWarning: 'normalize' was deprecated in version 1.0 and will be removed in 1.2. Please leave the normalize parameter to its default value to silence this warning. The default behavior of this estimator is to not do any normalization. If normalization is needed please use sklearn.preprocessing.StandardScaler instead.\n",
      "  FutureWarning,\n",
      "C:\\Users\\ejgar\\AppData\\Local\\Programs\\Python\\Python37\\lib\\site-packages\\sklearn\\linear_model\\_base.py:155: FutureWarning: 'normalize' was deprecated in version 1.0 and will be removed in 1.2. Please leave the normalize parameter to its default value to silence this warning. The default behavior of this estimator is to not do any normalization. If normalization is needed please use sklearn.preprocessing.StandardScaler instead.\n",
      "  FutureWarning,\n",
      "C:\\Users\\ejgar\\AppData\\Local\\Programs\\Python\\Python37\\lib\\site-packages\\sklearn\\linear_model\\_base.py:155: FutureWarning: 'normalize' was deprecated in version 1.0 and will be removed in 1.2. Please leave the normalize parameter to its default value to silence this warning. The default behavior of this estimator is to not do any normalization. If normalization is needed please use sklearn.preprocessing.StandardScaler instead.\n",
      "  FutureWarning,\n",
      "C:\\Users\\ejgar\\AppData\\Local\\Programs\\Python\\Python37\\lib\\site-packages\\sklearn\\linear_model\\_base.py:155: FutureWarning: 'normalize' was deprecated in version 1.0 and will be removed in 1.2. Please leave the normalize parameter to its default value to silence this warning. The default behavior of this estimator is to not do any normalization. If normalization is needed please use sklearn.preprocessing.StandardScaler instead.\n",
      "  FutureWarning,\n",
      "C:\\Users\\ejgar\\AppData\\Local\\Programs\\Python\\Python37\\lib\\site-packages\\sklearn\\linear_model\\_base.py:155: FutureWarning: 'normalize' was deprecated in version 1.0 and will be removed in 1.2. Please leave the normalize parameter to its default value to silence this warning. The default behavior of this estimator is to not do any normalization. If normalization is needed please use sklearn.preprocessing.StandardScaler instead.\n",
      "  FutureWarning,\n"
     ]
    },
    {
     "data": {
      "text/plain": [
       "GridSearchCV(estimator=LinearRegression(),\n",
       "             param_grid={'copy_X': [True, False],\n",
       "                         'fit_intercept': [True, False],\n",
       "                         'normalize': [True, False]},\n",
       "             scoring=make_scorer(mean_squared_error, greater_is_better=False))"
      ]
     },
     "execution_count": 91,
     "metadata": {},
     "output_type": "execute_result"
    }
   ],
   "source": [
    "scorer=make_scorer(mean_squared_error, greater_is_better = False)\n",
    "params = {'fit_intercept':[True,False], 'normalize':[True,False], 'copy_X':[True, False],}\n",
    "grid_search1 = GridSearchCV(pol_reg, params, scoring=scorer)\n",
    "grid_search1.fit(X_poly_train,y_train)"
   ]
  },
  {
   "cell_type": "code",
   "execution_count": 92,
   "metadata": {},
   "outputs": [
    {
     "name": "stdout",
     "output_type": "stream",
     "text": [
      "El mejor estimator es LinearRegression(normalize=False)\n",
      "Los mejores parámetros son {'copy_X': True, 'fit_intercept': True, 'normalize': False}\n",
      "El mejor score es -21568686313.90991\n"
     ]
    }
   ],
   "source": [
    "print(\"El mejor estimator es\",grid_search1.best_estimator_)\n",
    "print(\"Los mejores parámetros son\",grid_search1.best_params_)\n",
    "print(\"El mejor score es\",grid_search1.best_score_)"
   ]
  },
  {
   "cell_type": "code",
   "execution_count": 93,
   "metadata": {},
   "outputs": [
    {
     "data": {
      "text/plain": [
       "array([17574.02038854, 12502.6809426 ,  7464.80885143, ...,\n",
       "       18869.7840265 ,  4635.37571801, -1397.30565997])"
      ]
     },
     "execution_count": 93,
     "metadata": {},
     "output_type": "execute_result"
    }
   ],
   "source": [
    "predictions_pol_grid = grid_search1.predict(X_poly_train)\n",
    "predictions_pol_grid"
   ]
  },
  {
   "cell_type": "code",
   "execution_count": 94,
   "metadata": {},
   "outputs": [
    {
     "name": "stdout",
     "output_type": "stream",
     "text": [
      "train MAE:  3452.8543868993956\n",
      "train MAPE:  0.37159355462057003\n",
      "train MSE:  46631811.17479712\n",
      "train RMSE:  6828.748873314725\n",
      "train R2_Score 0.8326997894647645\n"
     ]
    }
   ],
   "source": [
    "MAE_pol_grid = mean_absolute_error(y_train, predictions_pol_grid)\n",
    "MAPE_pol_grid = mean_absolute_percentage_error(y_train,predictions_pol_grid)\n",
    "MSE_pol_grid = mean_squared_error(y_train,predictions_pol_grid)\n",
    "RMSE_pol_grid = np.sqrt(mean_squared_error(y_train,predictions_pol_grid))\n",
    "RS_SCORE_pol_grid = r2_score(y_train,predictions_pol_grid)\n",
    "print(\"train MAE: \", MAE_pol_grid)\n",
    "print(\"train MAPE: \",MAPE_pol_grid)\n",
    "print(\"train MSE: \", MSE_pol_grid)\n",
    "print(\"train RMSE: \", RMSE_pol_grid)\n",
    "print(\"train R2_Score\",RS_SCORE_pol_grid)\n"
   ]
  },
  {
   "cell_type": "markdown",
   "metadata": {},
   "source": [
    "## Decision Tree"
   ]
  },
  {
   "cell_type": "code",
   "execution_count": 96,
   "metadata": {},
   "outputs": [
    {
     "data": {
      "text/plain": [
       "array([8.17636265e-03, 1.59358035e-02, 0.00000000e+00, 4.66674150e-04,\n",
       "       5.44290915e-03, 5.68175715e-01, 0.00000000e+00, 0.00000000e+00,\n",
       "       0.00000000e+00, 0.00000000e+00, 0.00000000e+00, 4.01802536e-01])"
      ]
     },
     "execution_count": 96,
     "metadata": {},
     "output_type": "execute_result"
    }
   ],
   "source": [
    "dtr = DecisionTreeRegressor(max_depth=5)\n",
    "dtr.fit(X_train,y_train)\n",
    "dtr.feature_importances_"
   ]
  },
  {
   "cell_type": "code",
   "execution_count": 97,
   "metadata": {},
   "outputs": [
    {
     "data": {
      "text/html": [
       "<div>\n",
       "<style scoped>\n",
       "    .dataframe tbody tr th:only-of-type {\n",
       "        vertical-align: middle;\n",
       "    }\n",
       "\n",
       "    .dataframe tbody tr th {\n",
       "        vertical-align: top;\n",
       "    }\n",
       "\n",
       "    .dataframe thead th {\n",
       "        text-align: right;\n",
       "    }\n",
       "</style>\n",
       "<table border=\"1\" class=\"dataframe\">\n",
       "  <thead>\n",
       "    <tr style=\"text-align: right;\">\n",
       "      <th></th>\n",
       "      <th>Feature Importance</th>\n",
       "    </tr>\n",
       "  </thead>\n",
       "  <tbody>\n",
       "    <tr>\n",
       "      <th>CV</th>\n",
       "      <td>0.57</td>\n",
       "    </tr>\n",
       "    <tr>\n",
       "      <th>TDG</th>\n",
       "      <td>0.40</td>\n",
       "    </tr>\n",
       "    <tr>\n",
       "      <th>Modelo</th>\n",
       "      <td>0.02</td>\n",
       "    </tr>\n",
       "    <tr>\n",
       "      <th>Marca</th>\n",
       "      <td>0.01</td>\n",
       "    </tr>\n",
       "    <tr>\n",
       "      <th>kms</th>\n",
       "      <td>0.01</td>\n",
       "    </tr>\n",
       "    <tr>\n",
       "      <th>Año</th>\n",
       "      <td>0.00</td>\n",
       "    </tr>\n",
       "    <tr>\n",
       "      <th>Tipo_Combustible</th>\n",
       "      <td>0.00</td>\n",
       "    </tr>\n",
       "    <tr>\n",
       "      <th>N_Puertas</th>\n",
       "      <td>0.00</td>\n",
       "    </tr>\n",
       "    <tr>\n",
       "      <th>Tipo_Cambio</th>\n",
       "      <td>0.00</td>\n",
       "    </tr>\n",
       "    <tr>\n",
       "      <th>color</th>\n",
       "      <td>0.00</td>\n",
       "    </tr>\n",
       "    <tr>\n",
       "      <th>N_Fotos</th>\n",
       "      <td>0.00</td>\n",
       "    </tr>\n",
       "    <tr>\n",
       "      <th>Provincia</th>\n",
       "      <td>0.00</td>\n",
       "    </tr>\n",
       "  </tbody>\n",
       "</table>\n",
       "</div>"
      ],
      "text/plain": [
       "                  Feature Importance\n",
       "CV                              0.57\n",
       "TDG                             0.40\n",
       "Modelo                          0.02\n",
       "Marca                           0.01\n",
       "kms                             0.01\n",
       "Año                             0.00\n",
       "Tipo_Combustible                0.00\n",
       "N_Puertas                       0.00\n",
       "Tipo_Cambio                     0.00\n",
       "color                           0.00\n",
       "N_Fotos                         0.00\n",
       "Provincia                       0.00"
      ]
     },
     "execution_count": 97,
     "metadata": {},
     "output_type": "execute_result"
    }
   ],
   "source": [
    "dtr_feature_importance = pd.DataFrame(dtr.feature_importances_,\n",
    "                            X_train.columns,\n",
    "                            columns=['Feature Importance'])\n",
    "\n",
    "dtr_feature_importance.sort_values('Feature Importance', ascending=False)"
   ]
  },
  {
   "cell_type": "code",
   "execution_count": 98,
   "metadata": {},
   "outputs": [
    {
     "data": {
      "text/plain": [
       "array([26445.00532702, 12248.82144831,  8942.66402466, ...,\n",
       "       19744.47208644,  4068.58078778,  1966.27403846])"
      ]
     },
     "execution_count": 98,
     "metadata": {},
     "output_type": "execute_result"
    }
   ],
   "source": [
    "predictions_dtr = dtr.predict(X_train)\n",
    "predictions_dtr"
   ]
  },
  {
   "cell_type": "code",
   "execution_count": 99,
   "metadata": {},
   "outputs": [
    {
     "name": "stdout",
     "output_type": "stream",
     "text": [
      "MAE:  3462.5845015072646\n",
      "MAPE:  0.23839335766876343\n",
      "MSE:  39714403.43513876\n",
      "RMSE:  6301.936482950202\n",
      "R2_Score 0.8575172636749102\n",
      "--------------------------------------------------\n",
      "test MAE: 3612.530244730324\n",
      "test MAPE: 0.24041511029530904\n",
      "test MSE: 50188914.90606719\n",
      "Test RMSE:7084.4135\n",
      "RS_SCORE 0.8587991222790399\n"
     ]
    }
   ],
   "source": [
    "MAE_dtr = mean_absolute_error(y_train, predictions_dtr)\n",
    "MAPE_dtr = mean_absolute_percentage_error(y_train,predictions_dtr)\n",
    "MSE_dtr = mean_squared_error(y_train,predictions_dtr)\n",
    "RMSE_dtr = np.sqrt(mean_squared_error(y_train,predictions_dtr))\n",
    "RS_SCORE_dtr = r2_score(y_train,predictions_dtr)\n",
    "print(\"MAE: \", MAE_dtr)\n",
    "print(\"MAPE: \",MAPE_dtr)\n",
    "print(\"MSE: \", MSE_dtr)\n",
    "print(\"RMSE: \", RMSE_dtr)\n",
    "print(\"R2_Score\",RS_SCORE_dtr)\n",
    "print(\"-\"*50)\n",
    "print(\"test MAE:\", mean_absolute_error(y_test, dtr.predict(X_test)))\n",
    "print(\"test MAPE:\", mean_absolute_percentage_error(y_test, dtr.predict(X_test)))\n",
    "print(\"test MSE:\", mean_squared_error(y_test, dtr.predict(X_test)))\n",
    "print(\"Test RMSE:%0.4f\"% np.sqrt(mean_squared_error(y_test, dtr.predict(X_test))))\n",
    "print('RS_SCORE', r2_score(y_test,dtr.predict(X_test)))"
   ]
  },
  {
   "cell_type": "markdown",
   "metadata": {},
   "source": [
    "## Buscando el mejor modelo de Decision Tree"
   ]
  },
  {
   "cell_type": "code",
   "execution_count": 100,
   "metadata": {},
   "outputs": [
    {
     "data": {
      "text/plain": [
       "GridSearchCV(cv=5, estimator=DecisionTreeRegressor(),\n",
       "             param_grid={'max_depth': [1, 2, 3, 4, 5, 6, 7, 8, 9, 10],\n",
       "                         'min_samples_leaf': [1, 2, 3, 4, 5, 6, 7, 8, 9, 10],\n",
       "                         'min_samples_split': [2, 3, 4, 5, 6, 7, 8, 9, 10]},\n",
       "             return_train_score=True, scoring='neg_mean_squared_error')"
      ]
     },
     "execution_count": 100,
     "metadata": {},
     "output_type": "execute_result"
    }
   ],
   "source": [
    "tree = DecisionTreeRegressor()\n",
    "\n",
    "parameters = {'max_depth':[1,2,3,4,5,6,7,8,9,10],\n",
    "              'min_samples_split':[2,3,4,5,6,7,8,9,10],\n",
    "              'min_samples_leaf':[1,2,3,4,5,6,7,8,9,10]}\n",
    "\n",
    "grid_dtr = GridSearchCV(tree, parameters, cv=5, scoring='neg_mean_squared_error', return_train_score=True)\n",
    "\n",
    "grid_dtr.fit(X_train, y_train)"
   ]
  },
  {
   "cell_type": "code",
   "execution_count": 101,
   "metadata": {},
   "outputs": [
    {
     "name": "stdout",
     "output_type": "stream",
     "text": [
      "El mejor estimator es LinearRegression(normalize=False)\n",
      "Los mejores parámetros son {'copy_X': True, 'fit_intercept': True, 'normalize': False}\n",
      "El mejor score es 0.7006571174074228\n"
     ]
    }
   ],
   "source": [
    "print(\"El mejor estimator es\",grid.best_estimator_)\n",
    "print(\"Los mejores parámetros son\",grid.best_params_)\n",
    "print(\"El mejor score es\",grid.best_score_)"
   ]
  },
  {
   "cell_type": "code",
   "execution_count": 102,
   "metadata": {},
   "outputs": [
    {
     "data": {
      "text/plain": [
       "array([20503.08852459, 13460.99456522,  8848.64583333, ...,\n",
       "       19221.43508772,  5131.81081081,  1191.68604651])"
      ]
     },
     "execution_count": 102,
     "metadata": {},
     "output_type": "execute_result"
    }
   ],
   "source": [
    "predictions_dtr_gs = grid_dtr.predict(X_train)\n",
    "predictions_dtr_gs"
   ]
  },
  {
   "cell_type": "code",
   "execution_count": 103,
   "metadata": {},
   "outputs": [
    {
     "name": "stdout",
     "output_type": "stream",
     "text": [
      "MAE train:  1679.8\n",
      "MAPE train:  9.0 %\n",
      "MSE train:  16999273.71\n",
      "RMSE train:  4123.02\n",
      "R2_Score train 0.94\n",
      "\n",
      "test MAE: 1979.23\n",
      "test MAPE: 10.0 %\n",
      "test MSE: 35102027.57\n",
      "Test RMSE:5924.7000\n",
      "RS_SCORE 0.9\n"
     ]
    }
   ],
   "source": [
    "MAE_dtr_gs = mean_absolute_error(y_train, predictions_dtr_gs)\n",
    "MAPE_dtr_gs = mean_absolute_percentage_error(y_train,predictions_dtr_gs)\n",
    "MSE_dtr_gs = mean_squared_error(y_train,predictions_dtr_gs)\n",
    "RMSE_dtr_gs = np.sqrt(mean_squared_error(y_train,predictions_dtr_gs))\n",
    "RS_SCORE_dtr_gs = r2_score(y_train,predictions_dtr_gs)\n",
    "print(\"MAE train: \", MAE_dtr_gs.round(2))\n",
    "print(\"MAPE train: \",MAPE_dtr_gs.round(2)*100,\"%\")\n",
    "print(\"MSE train: \", MSE_dtr_gs.round(2))\n",
    "print(\"RMSE train: \", RMSE_dtr_gs.round(2))\n",
    "print(\"R2_Score train\",RS_SCORE_dtr_gs.round(2))\n",
    "print(\"\"*50)\n",
    "print(\"test MAE:\", mean_absolute_error(y_test, grid_dtr.predict(X_test)).round(2))\n",
    "print(\"test MAPE:\", mean_absolute_percentage_error(y_test, grid_dtr.predict(X_test)).round(2)*100, \"%\")\n",
    "print(\"test MSE:\", mean_squared_error(y_test, grid_dtr.predict(X_test)).round(2))\n",
    "print(\"Test RMSE:%0.4f\"% np.sqrt(mean_squared_error(y_test, grid_dtr.predict(X_test))).round(2))\n",
    "print('RS_SCORE', r2_score(y_test,grid_dtr.predict(X_test)).round(2))"
   ]
  },
  {
   "cell_type": "code",
   "execution_count": null,
   "metadata": {},
   "outputs": [],
   "source": [
    "#Guardo el mejor modelo de Decision Tree. En este caso me quedo con el modelo que he obtenido con el Gridsearch\n",
    "\n",
    "with open('modelos/otros/DecissionTree_GridSearch_model','wb') as archivo_salida:\n",
    "    pickle.dump(grid_dtr,archivo_salida)"
   ]
  },
  {
   "cell_type": "markdown",
   "metadata": {},
   "source": [
    "## KNN"
   ]
  },
  {
   "cell_type": "code",
   "execution_count": 105,
   "metadata": {},
   "outputs": [],
   "source": [
    "# Para este modelo escalo los datos\n",
    "\n",
    "scaler = StandardScaler()\n",
    "X_train_scal = scaler.fit_transform(X_train) \n",
    "X_test_scal= scaler.transform(X_test)\n",
    "\n",
    "# Probé primero Min Max scaler, pero obtuve peores resultados. Así que me quedo con StandarScaler"
   ]
  },
  {
   "cell_type": "code",
   "execution_count": 106,
   "metadata": {},
   "outputs": [],
   "source": [
    "knn = KNeighborsRegressor(n_neighbors=5)\n",
    "knn.fit(X_train_scal,y_train)\n",
    "predictions_knn = knn.predict(X_train_scal)"
   ]
  },
  {
   "cell_type": "code",
   "execution_count": 107,
   "metadata": {},
   "outputs": [
    {
     "name": "stdout",
     "output_type": "stream",
     "text": [
      "train MAE train:  2575.62\n",
      "train MAPE train:  16.0 %\n",
      "train MSE train:  32216325.75\n",
      "train RMSE train:  5675.94\n",
      "train R2_Score train 0.88\n",
      "--------------------------------------------------\n",
      "test MAE: 3236.03\n",
      "test MAPE: 19.0 %\n",
      "test MSE: 55980274.91\n",
      "Test RMSE:7482.0000\n",
      "RS_SCORE 0.84\n"
     ]
    }
   ],
   "source": [
    "MAE_knn = mean_absolute_error(y_train, predictions_knn)\n",
    "MAPE_knn = mean_absolute_percentage_error(y_train,predictions_knn)\n",
    "MSE_knn = mean_squared_error(y_train,predictions_knn)\n",
    "RMSE_knn = np.sqrt(mean_squared_error(y_train,predictions_knn))\n",
    "RS_SCORE_knn = r2_score(y_train,predictions_knn)\n",
    "print(\"train MAE train: \", MAE_knn.round(2))\n",
    "print(\"train MAPE train: \",MAPE_knn.round(2)*100,\"%\")\n",
    "print(\"train MSE train: \", MSE_knn.round(2))\n",
    "print(\"train RMSE train: \", RMSE_knn.round(2))\n",
    "print(\"train R2_Score train\",RS_SCORE_knn.round(2))\n",
    "print(\"-\"*50)\n",
    "print(\"test MAE:\", mean_absolute_error(y_test, knn.predict(X_test_scal)).round(2))\n",
    "print(\"test MAPE:\", mean_absolute_percentage_error(y_test, knn.predict(X_test_scal)).round(2)*100, \"%\")\n",
    "print(\"test MSE:\", mean_squared_error(y_test, knn.predict(X_test_scal)).round(2))\n",
    "print(\"Test RMSE:%0.4f\"% np.sqrt(mean_squared_error(y_test, knn.predict(X_test_scal))).round(2))\n",
    "print('RS_SCORE', r2_score(y_test,knn.predict(X_test_scal)).round(2))   "
   ]
  },
  {
   "cell_type": "code",
   "execution_count": null,
   "metadata": {},
   "outputs": [],
   "source": [
    "#Guardo el mejor modelo de KNN\n",
    "\n",
    "with open('modelos/otros/KNN_model','wb') as archivo_salida:\n",
    "    pickle.dump(knn,archivo_salida)"
   ]
  },
  {
   "cell_type": "markdown",
   "metadata": {},
   "source": [
    "## Buscando el mejor KNN con Gridsearch CV"
   ]
  },
  {
   "cell_type": "code",
   "execution_count": 108,
   "metadata": {},
   "outputs": [
    {
     "data": {
      "text/plain": [
       "GridSearchCV(estimator=KNeighborsRegressor(),\n",
       "             param_grid={'n_neighbors': array([1, 2, 3, 4, 5, 6, 7, 8, 9]),\n",
       "                         'weights': ['uniform', 'distance']})"
      ]
     },
     "execution_count": 108,
     "metadata": {},
     "output_type": "execute_result"
    }
   ],
   "source": [
    "params = {\"n_neighbors\": np.arange(1, 10), \n",
    "          \"weights\": [\"uniform\", \"distance\"]}\n",
    "\n",
    "grid_search_cv_knn = GridSearchCV(knn, params)\n",
    "grid_search_cv_knn.fit(X_train_scal, y_train)"
   ]
  },
  {
   "cell_type": "code",
   "execution_count": 109,
   "metadata": {},
   "outputs": [
    {
     "name": "stdout",
     "output_type": "stream",
     "text": [
      "El mejor estimator es KNeighborsRegressor(n_neighbors=9, weights='distance')\n",
      "Los mejores parámetros son {'n_neighbors': 9, 'weights': 'distance'}\n",
      "El mejor score es 0.8358707950007268\n"
     ]
    }
   ],
   "source": [
    "print(\"El mejor estimator es\",grid_search_cv_knn.best_estimator_)\n",
    "print(\"Los mejores parámetros son\",grid_search_cv_knn.best_params_)\n",
    "print(\"El mejor score es\",grid_search_cv_knn.best_score_)"
   ]
  },
  {
   "cell_type": "code",
   "execution_count": 110,
   "metadata": {},
   "outputs": [],
   "source": [
    "knn_gs = KNeighborsRegressor(n_neighbors=7,weights='uniform',leaf_size=50,n_jobs=-1)\n",
    "knn_gs.fit(X_train_scal,y_train)\n",
    "predictions_knn_gs = knn_gs.predict(X_train_scal)\n",
    "# Con los parámetros que me da el gridsearch obtengo un modelo con overfitting. Así que adapto los parámetros manualmente"
   ]
  },
  {
   "cell_type": "code",
   "execution_count": 111,
   "metadata": {},
   "outputs": [
    {
     "name": "stdout",
     "output_type": "stream",
     "text": [
      "train MAE train:  2739.8\n",
      "train MAPE train:  17.0 %\n",
      "train MSE train:  36515164.64\n",
      "train RMSE train:  6042.78\n",
      "train R2_Score train 0.87\n",
      "--------------------------------------------------\n",
      "test MAE: 3230.53\n",
      "test MAPE: 19.0 %\n",
      "test MSE: 53882272.34\n",
      "Test RMSE:7340.4500\n",
      "RS_SCORE 0.85\n"
     ]
    }
   ],
   "source": [
    "MAE_knn_gs = mean_absolute_error(y_train, predictions_knn_gs)\n",
    "MAPE_knn_gs = mean_absolute_percentage_error(y_train,predictions_knn_gs)\n",
    "MSE_knn_gs = mean_squared_error(y_train,predictions_knn_gs)\n",
    "RMSE_knn_gs = np.sqrt(mean_squared_error(y_train,predictions_knn_gs))\n",
    "RS_SCORE_knn_gs = r2_score(y_train,predictions_knn_gs)\n",
    "print(\"train MAE train: \", MAE_knn_gs.round(2))\n",
    "print(\"train MAPE train: \",MAPE_knn_gs.round(2)*100,\"%\")\n",
    "print(\"train MSE train: \", MSE_knn_gs.round(2))\n",
    "print(\"train RMSE train: \", RMSE_knn_gs.round(2))\n",
    "print(\"train R2_Score train\",RS_SCORE_knn_gs.round(2))\n",
    "print(\"-\"*50)\n",
    "print(\"test MAE:\", mean_absolute_error(y_test, knn_gs.predict(X_test_scal)).round(2))\n",
    "print(\"test MAPE:\", mean_absolute_percentage_error(y_test, knn_gs.predict(X_test_scal)).round(2)*100, \"%\")\n",
    "print(\"test MSE:\", mean_squared_error(y_test, knn_gs.predict(X_test_scal)).round(2))\n",
    "print(\"Test RMSE:%0.4f\"% np.sqrt(mean_squared_error(y_test, knn_gs.predict(X_test_scal))).round(2))\n",
    "print('RS_SCORE', r2_score(y_test,knn_gs.predict(X_test_scal)).round(2))  "
   ]
  },
  {
   "cell_type": "markdown",
   "metadata": {},
   "source": [
    "# SVM"
   ]
  },
  {
   "cell_type": "code",
   "execution_count": 112,
   "metadata": {},
   "outputs": [],
   "source": [
    "# Para este modelo escalo los datos\n",
    "scaler = StandardScaler()\n",
    "X_train_scal = scaler.fit_transform(X_train) \n",
    "X_test_scal= scaler.transform(X_test)\n",
    "\n",
    "# Min max scaler descarto, me da peores resultados"
   ]
  },
  {
   "cell_type": "code",
   "execution_count": 113,
   "metadata": {},
   "outputs": [],
   "source": [
    "svm = SVR()\n",
    "svm.fit(X_train_scal,y_train)\n",
    "predictions_svm = svm.predict(X_train_scal)"
   ]
  },
  {
   "cell_type": "code",
   "execution_count": 114,
   "metadata": {},
   "outputs": [
    {
     "name": "stdout",
     "output_type": "stream",
     "text": [
      "train MAE train:  8651.46\n",
      "train MAPE train:  97.0 %\n",
      "train MSE train:  268815638.02\n",
      "train RMSE train:  16395.6\n",
      "train R2_Score train 0.04\n",
      "--------------------------------------------------\n",
      "test MAE: 8951.62\n",
      "test MAPE: 97.0 %\n",
      "test MSE: 348100364.87\n",
      "Test RMSE:18657.4500\n",
      "RS_SCORE 0.02\n"
     ]
    }
   ],
   "source": [
    "MAE_svm = mean_absolute_error(y_train, predictions_svm)\n",
    "MAPE_svm = mean_absolute_percentage_error(y_train,predictions_svm)\n",
    "MSE_svm = mean_squared_error(y_train,predictions_svm)\n",
    "RMSE_svm = np.sqrt(mean_squared_error(y_train,predictions_svm))\n",
    "RS_SCORE_svm = r2_score(y_train,predictions_svm)\n",
    "print(\"train MAE train: \", MAE_svm.round(2))\n",
    "print(\"train MAPE train: \",MAPE_svm.round(2)*100,\"%\")\n",
    "print(\"train MSE train: \", MSE_svm.round(2))\n",
    "print(\"train RMSE train: \", RMSE_svm.round(2))\n",
    "print(\"train R2_Score train\",RS_SCORE_svm.round(2))\n",
    "print(\"-\"*50)\n",
    "print(\"test MAE:\", mean_absolute_error(y_test, svm.predict(X_test_scal)).round(2))\n",
    "print(\"test MAPE:\", mean_absolute_percentage_error(y_test, svm.predict(X_test_scal)).round(2)*100, \"%\")\n",
    "print(\"test MSE:\", mean_squared_error(y_test, svm.predict(X_test_scal)).round(2))\n",
    "print(\"Test RMSE:%0.4f\"% np.sqrt(mean_squared_error(y_test, svm.predict(X_test_scal))).round(2))\n",
    "print('RS_SCORE', r2_score(y_test,svm.predict(X_test_scal)).round(2))  "
   ]
  },
  {
   "cell_type": "markdown",
   "metadata": {},
   "source": [
    "## Buscando el mejor modelo SVM con Gridsearch CV"
   ]
  },
  {
   "cell_type": "code",
   "execution_count": 115,
   "metadata": {},
   "outputs": [
    {
     "data": {
      "text/plain": [
       "GridSearchCV(estimator=SVR(),\n",
       "             param_grid={'C': [1, 10], 'kernel': ('linear', 'rbf')})"
      ]
     },
     "execution_count": 115,
     "metadata": {},
     "output_type": "execute_result"
    }
   ],
   "source": [
    "parameters = {'kernel':('linear', 'rbf'), 'C':[1, 10]}\n",
    "clf = GridSearchCV(svm, parameters)\n",
    "clf.fit(X_train_scal, y_train)"
   ]
  },
  {
   "cell_type": "code",
   "execution_count": 116,
   "metadata": {},
   "outputs": [
    {
     "name": "stdout",
     "output_type": "stream",
     "text": [
      "El mejor estimator es SVR(C=10, kernel='linear')\n",
      "Los mejores parámetros son {'C': 10, 'kernel': 'linear'}\n",
      "El mejor score es 0.65586633411778\n"
     ]
    }
   ],
   "source": [
    "print(\"El mejor estimator es\",clf.best_estimator_)\n",
    "print(\"Los mejores parámetros son\",clf.best_params_)\n",
    "print(\"El mejor score es\",clf.best_score_)"
   ]
  },
  {
   "cell_type": "code",
   "execution_count": 117,
   "metadata": {},
   "outputs": [],
   "source": [
    "svm_grid = SVR(C=10,kernel='linear')\n",
    "svm_grid.fit(X_train_scal,y_train)\n",
    "predictions_svm_grid = svm_grid.predict(X_train_scal)"
   ]
  },
  {
   "cell_type": "code",
   "execution_count": 118,
   "metadata": {},
   "outputs": [
    {
     "name": "stdout",
     "output_type": "stream",
     "text": [
      "MAE train:  4231.66\n",
      "MAPE train:  42.0 %\n",
      "MSE train:  96511993.05\n",
      "RMSE train:  9824.05\n",
      "R2_Score train 0.65\n",
      "--------------------------------------------------\n",
      "test MAE: 4458.96\n",
      "test MAPE: 41.0 %\n",
      "test MSE: 141716795.62\n",
      "Test RMSE:11904.4900\n",
      "RS_SCORE 0.6\n"
     ]
    }
   ],
   "source": [
    "MAE_svm_grid = mean_absolute_error(y_train, predictions_svm_grid)\n",
    "MAPE_svm_grid = mean_absolute_percentage_error(y_train,predictions_svm_grid)\n",
    "MSE_svm_grid = mean_squared_error(y_train,predictions_svm_grid)\n",
    "RMSE_svm_grid = np.sqrt(mean_squared_error(y_train,predictions_svm_grid))\n",
    "RS_SCORE_svm_grid = r2_score(y_train,predictions_svm_grid)\n",
    "print(\"MAE train: \", MAE_svm_grid.round(2))\n",
    "print(\"MAPE train: \",MAPE_svm_grid.round(2)*100,\"%\")\n",
    "print(\"MSE train: \", MSE_svm_grid.round(2))\n",
    "print(\"RMSE train: \", RMSE_svm_grid.round(2))\n",
    "print(\"R2_Score train\",RS_SCORE_svm_grid.round(2))\n",
    "print(\"-\"*50)\n",
    "print(\"test MAE:\", mean_absolute_error(y_test, svm_grid.predict(X_test_scal)).round(2))\n",
    "print(\"test MAPE:\", mean_absolute_percentage_error(y_test, svm_grid.predict(X_test_scal)).round(2)*100, \"%\")\n",
    "print(\"test MSE:\", mean_squared_error(y_test, svm_grid.predict(X_test_scal)).round(2))\n",
    "print(\"Test RMSE:%0.4f\"% np.sqrt(mean_squared_error(y_test, svm_grid.predict(X_test_scal))).round(2))\n",
    "print('RS_SCORE', r2_score(y_test,svm_grid.predict(X_test_scal)).round(2))  \n"
   ]
  },
  {
   "cell_type": "code",
   "execution_count": null,
   "metadata": {},
   "outputs": [],
   "source": [
    "#Guardo el mejor modelo de SVM\n",
    "\n",
    "with open('modelos/otros/SVM_GridSearch_model','wb') as archivo_salida:\n",
    "    pickle.dump(svm_grid,archivo_salida)"
   ]
  },
  {
   "cell_type": "markdown",
   "metadata": {},
   "source": [
    "# Ensembles"
   ]
  },
  {
   "cell_type": "markdown",
   "metadata": {},
   "source": [
    "#### Random Forest Regressor"
   ]
  },
  {
   "cell_type": "code",
   "execution_count": 119,
   "metadata": {},
   "outputs": [],
   "source": [
    "rnd_reg = RandomForestRegressor(n_estimators=500,\n",
    "                                 max_leaf_nodes=16,\n",
    "                                 random_state=42)\n",
    "rnd_reg.fit(X_train, y_train)\n",
    "\n",
    "prections_rnd_reg = rnd_reg.predict(X_train)"
   ]
  },
  {
   "cell_type": "code",
   "execution_count": 120,
   "metadata": {},
   "outputs": [
    {
     "name": "stdout",
     "output_type": "stream",
     "text": [
      "MAE train:  3609.72\n",
      "MAPE train:  35.0 %\n",
      "MSE train:  35116142.54\n",
      "RMSE train:  5925.89\n",
      "R2_Score train 0.87\n",
      "--------------------------------------------------\n",
      "test MAE: 3728.7\n",
      "test MAPE: 36.0 %\n",
      "test MSE: 47247957.27\n",
      "Test RMSE:6873.7100\n",
      "RS_SCORE 0.87\n"
     ]
    }
   ],
   "source": [
    "MAE_rnd_reg = mean_absolute_error(y_train, prections_rnd_reg)\n",
    "MAPE_rnd_reg = mean_absolute_percentage_error(y_train,prections_rnd_reg)\n",
    "MSE_rnd_reg = mean_squared_error(y_train,prections_rnd_reg)\n",
    "RMSE_rnd_reg = np.sqrt(mean_squared_error(y_train,prections_rnd_reg))\n",
    "RS_SCORE_rnd_reg = r2_score(y_train,prections_rnd_reg)\n",
    "print(\"MAE train: \", MAE_rnd_reg.round(2))\n",
    "print(\"MAPE train: \",MAPE_rnd_reg.round(2)*100,\"%\")\n",
    "print(\"MSE train: \", MSE_rnd_reg.round(2))\n",
    "print(\"RMSE train: \", RMSE_rnd_reg.round(2))\n",
    "print(\"R2_Score train\",RS_SCORE_rnd_reg.round(2))\n",
    "print(\"-\"*50)\n",
    "print(\"test MAE:\", mean_absolute_error(y_test, rnd_reg.predict(X_test)).round(2))\n",
    "print(\"test MAPE:\", mean_absolute_percentage_error(y_test, rnd_reg.predict(X_test)).round(2)*100, \"%\")\n",
    "print(\"test MSE:\", mean_squared_error(y_test, rnd_reg.predict(X_test)).round(2))\n",
    "print(\"Test RMSE:%0.4f\"% np.sqrt(mean_squared_error(y_test, rnd_reg.predict(X_test))).round(2))\n",
    "print('RS_SCORE', r2_score(y_test,rnd_reg.predict(X_test)).round(2)) "
   ]
  },
  {
   "cell_type": "markdown",
   "metadata": {},
   "source": [
    "## GridSearch Random Forest Regressor"
   ]
  },
  {
   "cell_type": "code",
   "execution_count": 121,
   "metadata": {},
   "outputs": [
    {
     "data": {
      "text/plain": [
       "GridSearchCV(cv=5, estimator=RandomForestRegressor(),\n",
       "             param_grid={'max_depth': range(1, 10),\n",
       "                         'n_estimators': range(1, 10)},\n",
       "             scoring='r2')"
      ]
     },
     "execution_count": 121,
     "metadata": {},
     "output_type": "execute_result"
    }
   ],
   "source": [
    "grid_par = {'n_estimators': range(1,10,1),'max_depth':range(1,10,1)}\n",
    "modelo = RandomForestRegressor()\n",
    "grid = GridSearchCV(modelo, grid_par,scoring='r2',cv=5)\n",
    "grid.fit(X_train,y_train)"
   ]
  },
  {
   "cell_type": "code",
   "execution_count": 122,
   "metadata": {},
   "outputs": [
    {
     "name": "stdout",
     "output_type": "stream",
     "text": [
      "El mejor estimator es RandomForestRegressor(max_depth=9, n_estimators=9)\n",
      "Los mejores parámetros son {'max_depth': 9, 'n_estimators': 9}\n",
      "El mejor score es 0.9247904263112628\n"
     ]
    }
   ],
   "source": [
    "print(\"El mejor estimator es\",grid.best_estimator_)\n",
    "print(\"Los mejores parámetros son\",grid.best_params_)\n",
    "print(\"El mejor score es\",grid.best_score_)"
   ]
  },
  {
   "cell_type": "code",
   "execution_count": 123,
   "metadata": {},
   "outputs": [],
   "source": [
    "grid = RandomForestRegressor(max_depth=9,n_estimators=8)\n",
    "grid.fit(X_train,y_train)\n",
    "prections_rnd_reg_grid = grid.predict(X_train)"
   ]
  },
  {
   "cell_type": "code",
   "execution_count": 124,
   "metadata": {},
   "outputs": [
    {
     "name": "stdout",
     "output_type": "stream",
     "text": [
      "MAE train:  1419.81\n",
      "MAPE train:  7.000000000000001 %\n",
      "MSE train:  9806509.28\n",
      "RMSE train:  3131.53\n",
      "R2_Score train 0.96\n",
      "--------------------------------------------------\n",
      "test MAE: 1660.67\n",
      "test MAPE: 8.0 %\n",
      "test MSE: 22526672.96\n",
      "Test RMSE:4746.2300\n",
      "RS_SCORE 0.94\n"
     ]
    }
   ],
   "source": [
    "MAE_rnd_reg_grid = mean_absolute_error(y_train, prections_rnd_reg_grid)\n",
    "MAPE_rnd_reg_grid = mean_absolute_percentage_error(y_train,prections_rnd_reg_grid)\n",
    "MSE_rnd_reg_grid = mean_squared_error(y_train,prections_rnd_reg_grid)\n",
    "RMSE_rnd_reg_grid = np.sqrt(mean_squared_error(y_train,prections_rnd_reg_grid))\n",
    "RS_SCORE_rnd_reg_grid = r2_score(y_train,prections_rnd_reg_grid)\n",
    "print(\"MAE train: \", MAE_rnd_reg_grid.round(2))\n",
    "print(\"MAPE train: \",MAPE_rnd_reg_grid.round(2)*100,\"%\")\n",
    "print(\"MSE train: \", MSE_rnd_reg_grid.round(2))\n",
    "print(\"RMSE train: \", RMSE_rnd_reg_grid.round(2))\n",
    "print(\"R2_Score train\",RS_SCORE_rnd_reg_grid.round(2))\n",
    "print(\"-\"*50)\n",
    "print(\"test MAE:\", mean_absolute_error(y_test, grid.predict(X_test)).round(2))\n",
    "print(\"test MAPE:\", mean_absolute_percentage_error(y_test, grid.predict(X_test)).round(2)*100, \"%\")\n",
    "print(\"test MSE:\", mean_squared_error(y_test, grid.predict(X_test)).round(2))\n",
    "print(\"Test RMSE:%0.4f\"% np.sqrt(mean_squared_error(y_test, grid.predict(X_test))).round(2))\n",
    "print('RS_SCORE', r2_score(y_test,grid.predict(X_test)).round(2))  "
   ]
  },
  {
   "cell_type": "code",
   "execution_count": null,
   "metadata": {},
   "outputs": [],
   "source": [
    "#Guardo el mejor modelo de Random Forest, en este caso el obtenido con el Grid search\n",
    "\n",
    "with open('modelos/otros/RandomForest_GridSearch_model','wb') as archivo_salida:\n",
    "    pickle.dump(grid,archivo_salida)"
   ]
  },
  {
   "cell_type": "markdown",
   "metadata": {},
   "source": [
    "## Ada Boost Regressor"
   ]
  },
  {
   "cell_type": "code",
   "execution_count": 125,
   "metadata": {},
   "outputs": [],
   "source": [
    "ada_reg = AdaBoostRegressor(n_estimators=200,\n",
    "                            random_state=42)\n",
    "ada_reg.fit(X_train, y_train)\n",
    "\n",
    "predictions_ada_reg = ada_reg.predict(X_train)"
   ]
  },
  {
   "cell_type": "code",
   "execution_count": 126,
   "metadata": {},
   "outputs": [
    {
     "name": "stdout",
     "output_type": "stream",
     "text": [
      "MAE train:  22324.34\n",
      "MAPE train:  322.0 %\n",
      "MSE train:  541326925.13\n",
      "RMSE train:  23266.43\n",
      "R2_Score train -0.94\n",
      "--------------------------------------------------\n",
      "test MAE: 22312.09\n",
      "test MAPE: 321.0 %\n",
      "test MSE: 549193816.56\n",
      "Test RMSE:23434.8800\n",
      "RS_SCORE -0.55\n"
     ]
    }
   ],
   "source": [
    "MAE_ada_reg = mean_absolute_error(y_train, predictions_ada_reg)\n",
    "MAPE_ada_reg = mean_absolute_percentage_error(y_train,predictions_ada_reg)\n",
    "MSE_ada_reg = mean_squared_error(y_train,predictions_ada_reg)\n",
    "RMSE_ada_reg = np.sqrt(mean_squared_error(y_train,predictions_ada_reg))\n",
    "RS_SCORE_ada_reg = r2_score(y_train,predictions_ada_reg)\n",
    "print(\"MAE train: \", MAE_ada_reg.round(2))\n",
    "print(\"MAPE train: \",MAPE_ada_reg.round(2)*100,\"%\")\n",
    "print(\"MSE train: \", MSE_ada_reg.round(2))\n",
    "print(\"RMSE train: \", RMSE_ada_reg.round(2))\n",
    "print(\"R2_Score train\",RS_SCORE_ada_reg.round(2))\n",
    "print(\"-\"*50)\n",
    "print(\"test MAE:\", mean_absolute_error(y_test, ada_reg.predict(X_test)).round(2))\n",
    "print(\"test MAPE:\", mean_absolute_percentage_error(y_test, ada_reg.predict(X_test)).round(2)*100, \"%\")\n",
    "print(\"test MSE:\", mean_squared_error(y_test, ada_reg.predict(X_test)).round(2))\n",
    "print(\"Test RMSE:%0.4f\"% np.sqrt(mean_squared_error(y_test, ada_reg.predict(X_test))).round(2))\n",
    "print('RS_SCORE', r2_score(y_test,ada_reg.predict(X_test)).round(2))  "
   ]
  },
  {
   "cell_type": "markdown",
   "metadata": {},
   "source": [
    "## GridSearch Ada Boost Regressor"
   ]
  },
  {
   "cell_type": "code",
   "execution_count": 127,
   "metadata": {},
   "outputs": [
    {
     "data": {
      "text/plain": [
       "AdaBoostRegressor(learning_rate=2, n_estimators=4, random_state=42)"
      ]
     },
     "execution_count": 127,
     "metadata": {},
     "output_type": "execute_result"
    }
   ],
   "source": [
    "grid_par_ada = {'n_estimators': range(1,10,1),'learning_rate':range(1,10,1)}\n",
    "modelo_ada = AdaBoostRegressor(random_state=42)\n",
    "grid_ada = GridSearchCV(modelo_ada, grid_par_ada,scoring='r2',cv=5)\n",
    "grid_ada.fit(X_train,y_train)\n",
    "grid_ada = AdaBoostRegressor(learning_rate=2, n_estimators=4,random_state=42)\n",
    "grid_ada.fit(X_train,y_train)"
   ]
  },
  {
   "cell_type": "code",
   "execution_count": 128,
   "metadata": {},
   "outputs": [],
   "source": [
    "predictions_ada_grid = grid_ada.predict(X_train)"
   ]
  },
  {
   "cell_type": "code",
   "execution_count": 131,
   "metadata": {},
   "outputs": [
    {
     "name": "stdout",
     "output_type": "stream",
     "text": [
      "MAE train:  5171.36\n",
      "MAPE train:  61.0 %\n",
      "MSE train:  63609363.78\n",
      "RMSE train:  7975.55\n",
      "R2_Score train 0.77\n",
      "--------------------------------------------------\n",
      "test MAE: 5381.22\n",
      "test MAPE: 61.0 %\n",
      "test MSE: 87180701.39\n",
      "Test RMSE:9337.0600\n",
      "RS_SCORE 0.75\n"
     ]
    }
   ],
   "source": [
    "MAE_ada_reg_grid = mean_absolute_error(y_train, predictions_ada_grid)\n",
    "MAPE_ada_reg_grid = mean_absolute_percentage_error(y_train,predictions_ada_grid)\n",
    "MSE_ada_reg_grid = mean_squared_error(y_train,predictions_ada_grid)\n",
    "RMSE_ada_reg_grid = np.sqrt(mean_squared_error(y_train,predictions_ada_grid))\n",
    "RS_SCORE_ada_reg_grid = r2_score(y_train,predictions_ada_grid)\n",
    "print(\"MAE train: \", MAE_ada_reg_grid.round(2))\n",
    "print(\"MAPE train: \",MAPE_ada_reg_grid.round(2)*100,\"%\")\n",
    "print(\"MSE train: \", MSE_ada_reg_grid.round(2))\n",
    "print(\"RMSE train: \", RMSE_ada_reg_grid.round(2))\n",
    "print(\"R2_Score train\",RS_SCORE_ada_reg_grid.round(2))\n",
    "print(\"-\"*50)\n",
    "print(\"test MAE:\", mean_absolute_error(y_test, grid_ada.predict(X_test)).round(2))\n",
    "print(\"test MAPE:\", mean_absolute_percentage_error(y_test, grid_ada.predict(X_test)).round(2)*100, \"%\")\n",
    "print(\"test MSE:\", mean_squared_error(y_test, grid_ada.predict(X_test)).round(2))\n",
    "print(\"Test RMSE:%0.4f\"% np.sqrt(mean_squared_error(y_test, grid_ada.predict(X_test))).round(2))\n",
    "print('RS_SCORE', r2_score(y_test,grid_ada.predict(X_test)).round(2))"
   ]
  },
  {
   "cell_type": "code",
   "execution_count": null,
   "metadata": {},
   "outputs": [],
   "source": [
    "#Guardo el mejor modelo de Ada Boost, que en este modelo es el encontrado con el Grid Search\n",
    "\n",
    "with open('modelos/otros/AdaBoostRegressor_GridSearch_model','wb') as archivo_salida:\n",
    "    pickle.dump(grid_ada,archivo_salida)"
   ]
  },
  {
   "cell_type": "markdown",
   "metadata": {},
   "source": [
    "## Gradient Boosting"
   ]
  },
  {
   "cell_type": "code",
   "execution_count": 132,
   "metadata": {},
   "outputs": [],
   "source": [
    "gbrt = GradientBoostingRegressor(max_depth=2,\n",
    "                                 n_estimators=3, \n",
    "                                 learning_rate=1.0,\n",
    "                                 random_state=42)\n",
    "gbrt.fit(X_train, y_train)\n",
    "\n",
    "\n",
    "predictions_gbrt = gbrt.predict(X_train)"
   ]
  },
  {
   "cell_type": "code",
   "execution_count": 133,
   "metadata": {},
   "outputs": [
    {
     "name": "stdout",
     "output_type": "stream",
     "text": [
      "MAE train:  5566.54\n",
      "MAPE train:  55.00000000000001 %\n",
      "MSE train:  76054100.98\n",
      "RMSE train:  8720.9\n",
      "R2_Score train 0.73\n",
      "--------------------------------------------------\n",
      "test MAE: 5746.74\n",
      "test MAPE: 56.00000000000001 %\n",
      "test MSE: 101788663.69\n",
      "Test RMSE:10089.0400\n",
      "RS_SCORE 0.71\n"
     ]
    }
   ],
   "source": [
    "MAE_gbrt = mean_absolute_error(y_train, predictions_gbrt)\n",
    "MAPE_gbrt = mean_absolute_percentage_error(y_train,predictions_gbrt)\n",
    "MSE_gbrt = mean_squared_error(y_train,predictions_gbrt)\n",
    "RMSE_gbrt = np.sqrt(mean_squared_error(y_train,predictions_gbrt))\n",
    "RS_SCORE_gbrt = r2_score(y_train,predictions_gbrt)\n",
    "print(\"MAE train: \", MAE_gbrt.round(2))\n",
    "print(\"MAPE train: \",MAPE_gbrt.round(2)*100,\"%\")\n",
    "print(\"MSE train: \", MSE_gbrt.round(2))\n",
    "print(\"RMSE train: \", RMSE_gbrt.round(2))\n",
    "print(\"R2_Score train\",RS_SCORE_gbrt.round(2))\n",
    "print(\"-\"*50)\n",
    "print(\"test MAE:\", mean_absolute_error(y_test, gbrt.predict(X_test)).round(2))\n",
    "print(\"test MAPE:\", mean_absolute_percentage_error(y_test, gbrt.predict(X_test)).round(2)*100, \"%\")\n",
    "print(\"test MSE:\", mean_squared_error(y_test, gbrt.predict(X_test)).round(2))\n",
    "print(\"Test RMSE:%0.4f\"% np.sqrt(mean_squared_error(y_test, gbrt.predict(X_test))).round(2))\n",
    "print('RS_SCORE', r2_score(y_test,gbrt.predict(X_test)).round(2))  \n"
   ]
  },
  {
   "cell_type": "markdown",
   "metadata": {},
   "source": [
    "## Grid Search Gradient Boosting"
   ]
  },
  {
   "cell_type": "code",
   "execution_count": 134,
   "metadata": {},
   "outputs": [
    {
     "data": {
      "text/plain": [
       "GridSearchCV(estimator=GradientBoostingRegressor(learning_rate=1.0, max_depth=2,\n",
       "                                                 n_estimators=3,\n",
       "                                                 random_state=42),\n",
       "             param_grid={'learning_rate': [0.1, 0.2, 0.3],\n",
       "                         'max_depth': [2, 4, 6], 'min_samples_split': [2, 4, 6],\n",
       "                         'n_estimators': [50, 100, 150, 200]},\n",
       "             scoring='r2')"
      ]
     },
     "execution_count": 134,
     "metadata": {},
     "output_type": "execute_result"
    }
   ],
   "source": [
    "params = {'n_estimators': [50, 100, 150, 200],\n",
    "          'max_depth': [2, 4, 6],\n",
    "          'min_samples_split': [2, 4, 6],\n",
    "          'learning_rate': [0.1, 0.2, 0.3]}\n",
    "\n",
    "\n",
    "grid_gbrt = GridSearchCV(gbrt, params,scoring='r2')\n",
    "grid_gbrt.fit(X_train,y_train)"
   ]
  },
  {
   "cell_type": "code",
   "execution_count": 135,
   "metadata": {},
   "outputs": [
    {
     "name": "stdout",
     "output_type": "stream",
     "text": [
      "El mejor estimator es GradientBoostingRegressor(learning_rate=0.2, max_depth=4, n_estimators=200,\n",
      "                          random_state=42)\n",
      "Los mejores parámetros son {'learning_rate': 0.2, 'max_depth': 4, 'min_samples_split': 2, 'n_estimators': 200}\n",
      "El mejor score es 0.9625614919287774\n"
     ]
    }
   ],
   "source": [
    "print(\"El mejor estimator es\",grid_gbrt.best_estimator_)\n",
    "print(\"Los mejores parámetros son\",grid_gbrt.best_params_)\n",
    "print(\"El mejor score es\",grid_gbrt.best_score_)"
   ]
  },
  {
   "cell_type": "code",
   "execution_count": 136,
   "metadata": {},
   "outputs": [],
   "source": [
    "gbrt_grid = GradientBoostingRegressor(max_depth=4,\n",
    "                                 n_estimators=200, \n",
    "                                 learning_rate=0.2,\n",
    "                                 random_state=42,\n",
    "                                 min_samples_split=2)\n",
    "gbrt_grid.fit(X_train, y_train)\n",
    "\n",
    "predictions_gbrt_grid = gbrt_grid.predict(X_train)"
   ]
  },
  {
   "cell_type": "code",
   "execution_count": 137,
   "metadata": {},
   "outputs": [
    {
     "name": "stdout",
     "output_type": "stream",
     "text": [
      "MAE train:  808.61\n",
      "MAPE train:  6.0 %\n",
      "MSE train:  1828236.69\n",
      "RMSE train:  1352.12\n",
      "R2_Score train 0.99\n",
      "--------------------------------------------------\n",
      "test MAE: 1089.43\n",
      "test MAPE: 6.0 %\n",
      "test MSE: 14501098.59\n",
      "Test RMSE:3808.0300\n",
      "RS_SCORE 0.96\n"
     ]
    }
   ],
   "source": [
    "MAE_gbrt_grid = mean_absolute_error(y_train, predictions_gbrt_grid)\n",
    "MAPE_gbrt_grid = mean_absolute_percentage_error(y_train,predictions_gbrt_grid)\n",
    "MSE_gbrt_grid = mean_squared_error(y_train,predictions_gbrt_grid)\n",
    "RMSE_gbrt_grid = np.sqrt(mean_squared_error(y_train,predictions_gbrt_grid))\n",
    "RS_SCORE_gbrt_grid = r2_score(y_train,predictions_gbrt_grid)\n",
    "print(\"MAE train: \", MAE_gbrt_grid.round(2))\n",
    "print(\"MAPE train: \",MAPE_gbrt_grid.round(2)*100,\"%\")\n",
    "print(\"MSE train: \", MSE_gbrt_grid.round(2))\n",
    "print(\"RMSE train: \", RMSE_gbrt_grid.round(2))\n",
    "print(\"R2_Score train\",RS_SCORE_gbrt_grid.round(2))\n",
    "print(\"-\"*50)\n",
    "print(\"test MAE:\", mean_absolute_error(y_test, gbrt_grid.predict(X_test)).round(2))\n",
    "print(\"test MAPE:\", mean_absolute_percentage_error(y_test, gbrt_grid.predict(X_test)).round(2)*100, \"%\")\n",
    "print(\"test MSE:\", mean_squared_error(y_test, gbrt_grid.predict(X_test)).round(2))\n",
    "print(\"Test RMSE:%0.4f\"% np.sqrt(mean_squared_error(y_test, gbrt_grid.predict(X_test))).round(2))\n",
    "print('RS_SCORE', r2_score(y_test,gbrt_grid.predict(X_test)).round(2))  "
   ]
  },
  {
   "cell_type": "code",
   "execution_count": null,
   "metadata": {},
   "outputs": [],
   "source": [
    "#Guardo el mejor modelo de Gradient, que finalmente es mi modelo elegido\n",
    "\n",
    "with open('modelos/final/my_model','wb') as archivo_salida:\n",
    "    pickle.dump(gbrt_grid,archivo_salida)"
   ]
  },
  {
   "cell_type": "markdown",
   "metadata": {},
   "source": [
    "## XGB"
   ]
  },
  {
   "cell_type": "code",
   "execution_count": 138,
   "metadata": {},
   "outputs": [],
   "source": [
    "xgb_reg = xgboost.XGBRegressor(random_state=42)\n",
    "\n",
    "xgb_reg.fit(X_train, y_train)\n",
    "predictions_xgb = xgb_reg.predict(X_train)"
   ]
  },
  {
   "cell_type": "code",
   "execution_count": 139,
   "metadata": {},
   "outputs": [],
   "source": [
    "xgb_reg = xgboost.XGBRegressor(random_state=42)\n",
    "\n",
    "xgb_reg.fit(X_train.values, y_train)\n",
    "predictions_xgb = xgb_reg.predict(X_train)"
   ]
  },
  {
   "cell_type": "code",
   "execution_count": 140,
   "metadata": {},
   "outputs": [
    {
     "name": "stdout",
     "output_type": "stream",
     "text": [
      "MAE train:  480.94\n",
      "MAPE train:  4.0 %\n",
      "MSE train:  565255.12\n",
      "RMSE train:  751.83\n",
      "R2_Score train 1.0\n",
      "--------------------------------------------------\n",
      "test MAE: 903.96\n",
      "test MAPE: 5.0 %\n",
      "test MSE: 17031170.04\n",
      "Test RMSE:4126.8800\n",
      "RS_SCORE 0.95\n"
     ]
    }
   ],
   "source": [
    "MAE_xgb = mean_absolute_error(y_train, predictions_xgb)\n",
    "MAPE_xgb = mean_absolute_percentage_error(y_train,predictions_xgb)\n",
    "MSE_xgb = mean_squared_error(y_train,predictions_xgb)\n",
    "RMSE_xgb = np.sqrt(mean_squared_error(y_train,predictions_xgb))\n",
    "RS_SCORE_xgb = r2_score(y_train,predictions_xgb)\n",
    "print(\"MAE train: \", MAE_xgb.round(2))\n",
    "print(\"MAPE train: \",MAPE_xgb.round(2)*100,\"%\")\n",
    "print(\"MSE train: \", MSE_xgb.round(2))\n",
    "print(\"RMSE train: \", RMSE_xgb.round(2))\n",
    "print(\"R2_Score train\",RS_SCORE_xgb.round(2))\n",
    "print(\"-\"*50)\n",
    "print(\"test MAE:\", mean_absolute_error(y_test, xgb_reg.predict(X_test)).round(2))\n",
    "print(\"test MAPE:\", mean_absolute_percentage_error(y_test, xgb_reg.predict(X_test)).round(2)*100, \"%\")\n",
    "print(\"test MSE:\", mean_squared_error(y_test, xgb_reg.predict(X_test)).round(2))\n",
    "print(\"Test RMSE:%0.4f\"% np.sqrt(mean_squared_error(y_test, xgb_reg.predict(X_test))).round(2))\n",
    "print('RS_SCORE', r2_score(y_test,xgb_reg.predict(X_test)).round(2)) "
   ]
  },
  {
   "cell_type": "code",
   "execution_count": null,
   "metadata": {},
   "outputs": [],
   "source": [
    "#Guardo el mejor modelo de xgb\n",
    "\n",
    "with open('model/xgb_reg','wb') as archivo_salida:\n",
    "    pickle.dump(xgb_reg,archivo_salida)"
   ]
  },
  {
   "cell_type": "markdown",
   "metadata": {},
   "source": [
    "## Agrupo los mejores resultados de todos los modelos probados en un dataframe"
   ]
  },
  {
   "cell_type": "code",
   "execution_count": 141,
   "metadata": {},
   "outputs": [
    {
     "data": {
      "text/html": [
       "<div>\n",
       "<style scoped>\n",
       "    .dataframe tbody tr th:only-of-type {\n",
       "        vertical-align: middle;\n",
       "    }\n",
       "\n",
       "    .dataframe tbody tr th {\n",
       "        vertical-align: top;\n",
       "    }\n",
       "\n",
       "    .dataframe thead th {\n",
       "        text-align: right;\n",
       "    }\n",
       "</style>\n",
       "<table border=\"1\" class=\"dataframe\">\n",
       "  <thead>\n",
       "    <tr style=\"text-align: right;\">\n",
       "      <th></th>\n",
       "      <th>Métrica</th>\n",
       "      <th>Linear_R</th>\n",
       "      <th>Polynomial_R</th>\n",
       "      <th>Decision_Tree_Grid</th>\n",
       "      <th>KNN</th>\n",
       "      <th>SVM_Grid</th>\n",
       "      <th>RFR_Grid</th>\n",
       "      <th>ADA_Boost_Grid</th>\n",
       "      <th>Gradient_Boosting_Grid</th>\n",
       "      <th>xgb_grid</th>\n",
       "    </tr>\n",
       "  </thead>\n",
       "  <tbody>\n",
       "    <tr>\n",
       "      <th>0</th>\n",
       "      <td>MAE</td>\n",
       "      <td>4768.59</td>\n",
       "      <td>2987.31</td>\n",
       "      <td>1979.23</td>\n",
       "      <td>3236.03</td>\n",
       "      <td>4458.96</td>\n",
       "      <td>1660.67</td>\n",
       "      <td>5381.22</td>\n",
       "      <td>1089.43</td>\n",
       "      <td>903.96</td>\n",
       "    </tr>\n",
       "    <tr>\n",
       "      <th>1</th>\n",
       "      <td>MAPE</td>\n",
       "      <td>52.63</td>\n",
       "      <td>35.38</td>\n",
       "      <td>9.94</td>\n",
       "      <td>19.02</td>\n",
       "      <td>40.54</td>\n",
       "      <td>8.39</td>\n",
       "      <td>61.11</td>\n",
       "      <td>6.50</td>\n",
       "      <td>4.54</td>\n",
       "    </tr>\n",
       "    <tr>\n",
       "      <th>2</th>\n",
       "      <td>MSE</td>\n",
       "      <td>117283074.77</td>\n",
       "      <td>25979246.74</td>\n",
       "      <td>35102027.57</td>\n",
       "      <td>55980274.91</td>\n",
       "      <td>141716795.62</td>\n",
       "      <td>22526672.96</td>\n",
       "      <td>87180701.39</td>\n",
       "      <td>14501098.59</td>\n",
       "      <td>17031170.04</td>\n",
       "    </tr>\n",
       "    <tr>\n",
       "      <th>3</th>\n",
       "      <td>RMSE</td>\n",
       "      <td>10829.73</td>\n",
       "      <td>5096.98</td>\n",
       "      <td>5924.70</td>\n",
       "      <td>7482.00</td>\n",
       "      <td>11904.49</td>\n",
       "      <td>4746.23</td>\n",
       "      <td>9337.06</td>\n",
       "      <td>3808.03</td>\n",
       "      <td>4126.88</td>\n",
       "    </tr>\n",
       "    <tr>\n",
       "      <th>4</th>\n",
       "      <td>R2</td>\n",
       "      <td>0.67</td>\n",
       "      <td>0.93</td>\n",
       "      <td>0.90</td>\n",
       "      <td>0.84</td>\n",
       "      <td>0.60</td>\n",
       "      <td>0.94</td>\n",
       "      <td>0.75</td>\n",
       "      <td>0.96</td>\n",
       "      <td>0.95</td>\n",
       "    </tr>\n",
       "  </tbody>\n",
       "</table>\n",
       "</div>"
      ],
      "text/plain": [
       "  Métrica     Linear_R  Polynomial_R  Decision_Tree_Grid         KNN  \\\n",
       "0     MAE      4768.59       2987.31             1979.23     3236.03   \n",
       "1    MAPE        52.63         35.38                9.94       19.02   \n",
       "2     MSE 117283074.77   25979246.74         35102027.57 55980274.91   \n",
       "3    RMSE     10829.73       5096.98             5924.70     7482.00   \n",
       "4      R2         0.67          0.93                0.90        0.84   \n",
       "\n",
       "      SVM_Grid    RFR_Grid  ADA_Boost_Grid  Gradient_Boosting_Grid    xgb_grid  \n",
       "0      4458.96     1660.67         5381.22                 1089.43      903.96  \n",
       "1        40.54        8.39           61.11                    6.50        4.54  \n",
       "2 141716795.62 22526672.96     87180701.39             14501098.59 17031170.04  \n",
       "3     11904.49     4746.23         9337.06                 3808.03     4126.88  \n",
       "4         0.60        0.94            0.75                    0.96        0.95  "
      ]
     },
     "execution_count": 141,
     "metadata": {},
     "output_type": "execute_result"
    }
   ],
   "source": [
    "resultados = {'Métrica':['MAE','MAPE','MSE','RMSE','R2'],\n",
    "            'Linear_R':[\n",
    "            mean_absolute_error(y_test, reg_mod_2.predict(X_test)),\n",
    "            mean_absolute_percentage_error(y_test, reg_mod_2.predict(X_test))*100,\n",
    "            mean_squared_error(y_test, reg_mod_2.predict(X_test)),\n",
    "            np.sqrt(mean_squared_error(y_test, reg_mod_2.predict(X_test))),\n",
    "            r2_score(y_test,reg_mod_2.predict(X_test))],\n",
    "            'Polynomial_R': [mean_absolute_error(y_test, pol_reg_test.predict(X_poly_test)),\n",
    "                  mean_absolute_percentage_error(y_test, pol_reg_test.predict(X_poly_test))*100,\n",
    "                  mean_squared_error(y_test, pol_reg_test.predict(X_poly_test)),\n",
    "                  np.sqrt(mean_squared_error(y_test, pol_reg_test.predict(X_poly_test))),\n",
    "                  r2_score(y_test,pol_reg_test.predict(X_poly_test))]\n",
    "            \n",
    "            }\n",
    "\n",
    "resultados = pd.DataFrame(resultados)\n",
    "\n",
    "resultados['Decision_Tree_Grid'] = [mean_absolute_error(y_test, grid_dtr.predict(X_test)),\n",
    "                                mean_absolute_percentage_error(y_test, grid_dtr.predict(X_test))*100,\n",
    "                                mean_squared_error(y_test, grid_dtr.predict(X_test)),\n",
    "                                np.sqrt(mean_squared_error(y_test, grid_dtr.predict(X_test))),\n",
    "                                r2_score(y_test,grid_dtr.predict(X_test))\n",
    "\n",
    "]\n",
    "\n",
    "resultados['KNN'] = [mean_absolute_error(y_test, knn.predict(X_test_scal)),\n",
    "                    mean_absolute_percentage_error(y_test, knn.predict(X_test_scal))*100,\n",
    "                    mean_squared_error(y_test, knn.predict(X_test_scal)),\n",
    "                    np.sqrt(mean_squared_error(y_test, knn.predict(X_test_scal))),\n",
    "                    r2_score(y_test,knn.predict(X_test_scal))  \n",
    "]\n",
    "\n",
    "resultados['SVM_Grid'] = [mean_absolute_error(y_test, svm_grid.predict(X_test_scal)),\n",
    "                        mean_absolute_percentage_error(y_test, svm_grid.predict(X_test_scal))*100,\n",
    "                        mean_squared_error(y_test, svm_grid.predict(X_test_scal)),\n",
    "                        np.sqrt(mean_squared_error(y_test, svm_grid.predict(X_test_scal))),\n",
    "                        r2_score(y_test,svm_grid.predict(X_test_scal))\n",
    "                        ]\n",
    "\n",
    "resultados['RFR_Grid'] = [mean_absolute_error(y_test, grid.predict(X_test)),\n",
    "                        mean_absolute_percentage_error(y_test, grid.predict(X_test))*100,\n",
    "                        mean_squared_error(y_test, grid.predict(X_test)),\n",
    "                        np.sqrt(mean_squared_error(y_test, grid.predict(X_test))),\n",
    "                        r2_score(y_test,grid.predict(X_test))\n",
    "                        ]\n",
    "\n",
    "resultados['ADA_Boost_Grid'] = [mean_absolute_error(y_test, grid_ada.predict(X_test)),\n",
    "                                mean_absolute_percentage_error(y_test, grid_ada.predict(X_test))*100,\n",
    "                                mean_squared_error(y_test, grid_ada.predict(X_test)),\n",
    "                                np.sqrt(mean_squared_error(y_test, grid_ada.predict(X_test))),\n",
    "                                r2_score(y_test,grid_ada.predict(X_test))\n",
    "                                ]\n",
    "\n",
    "resultados['Gradient_Boosting_Grid'] = [mean_absolute_error(y_test, gbrt_grid.predict(X_test)),\n",
    "                                        mean_absolute_percentage_error(y_test, gbrt_grid.predict(X_test))*100,\n",
    "                                        mean_squared_error(y_test, gbrt_grid.predict(X_test)),\n",
    "                                        np.sqrt(mean_squared_error(y_test, gbrt_grid.predict(X_test))),\n",
    "                                        r2_score(y_test,gbrt_grid.predict(X_test))]\n",
    "\n",
    "resultados['xgb_grid'] = [\n",
    "                    mean_absolute_error(y_test, xgb_reg.predict(X_test)),\n",
    "                    mean_absolute_percentage_error(y_test, xgb_reg.predict(X_test))*100,\n",
    "                    mean_squared_error(y_test, xgb_reg.predict(X_test)),\n",
    "                    np.sqrt(mean_squared_error(y_test, xgb_reg.predict(X_test))),\n",
    "                    r2_score(y_test,xgb_reg.predict(X_test))\n",
    "]\n",
    "\n",
    "\n",
    "\n",
    "resultados"
   ]
  },
  {
   "cell_type": "markdown",
   "metadata": {},
   "source": [
    "#### Analizando con otra métrica más (MAX_ERROR), para elegir entre el modelo Gradient Boosting y XGB"
   ]
  },
  {
   "cell_type": "code",
   "execution_count": 142,
   "metadata": {},
   "outputs": [
    {
     "data": {
      "text/html": [
       "<div>\n",
       "<style scoped>\n",
       "    .dataframe tbody tr th:only-of-type {\n",
       "        vertical-align: middle;\n",
       "    }\n",
       "\n",
       "    .dataframe tbody tr th {\n",
       "        vertical-align: top;\n",
       "    }\n",
       "\n",
       "    .dataframe thead th {\n",
       "        text-align: right;\n",
       "    }\n",
       "</style>\n",
       "<table border=\"1\" class=\"dataframe\">\n",
       "  <thead>\n",
       "    <tr style=\"text-align: right;\">\n",
       "      <th></th>\n",
       "      <th>Métrica</th>\n",
       "      <th>Gradient_Boosting_Grid</th>\n",
       "      <th>xgb_grid</th>\n",
       "    </tr>\n",
       "  </thead>\n",
       "  <tbody>\n",
       "    <tr>\n",
       "      <th>0</th>\n",
       "      <td>MAE</td>\n",
       "      <td>1089.43</td>\n",
       "      <td>903.96</td>\n",
       "    </tr>\n",
       "    <tr>\n",
       "      <th>1</th>\n",
       "      <td>MAPE</td>\n",
       "      <td>6.50</td>\n",
       "      <td>4.54</td>\n",
       "    </tr>\n",
       "    <tr>\n",
       "      <th>2</th>\n",
       "      <td>MSE</td>\n",
       "      <td>14501098.59</td>\n",
       "      <td>17031170.04</td>\n",
       "    </tr>\n",
       "    <tr>\n",
       "      <th>3</th>\n",
       "      <td>RMSE</td>\n",
       "      <td>3808.03</td>\n",
       "      <td>4126.88</td>\n",
       "    </tr>\n",
       "    <tr>\n",
       "      <th>4</th>\n",
       "      <td>R2</td>\n",
       "      <td>0.96</td>\n",
       "      <td>0.95</td>\n",
       "    </tr>\n",
       "    <tr>\n",
       "      <th>5</th>\n",
       "      <td>MAX_ERROR</td>\n",
       "      <td>189550.43</td>\n",
       "      <td>194864.88</td>\n",
       "    </tr>\n",
       "  </tbody>\n",
       "</table>\n",
       "</div>"
      ],
      "text/plain": [
       "     Métrica  Gradient_Boosting_Grid    xgb_grid\n",
       "0        MAE                 1089.43      903.96\n",
       "1       MAPE                    6.50        4.54\n",
       "2        MSE             14501098.59 17031170.04\n",
       "3       RMSE                 3808.03     4126.88\n",
       "4         R2                    0.96        0.95\n",
       "5  MAX_ERROR               189550.43   194864.88"
      ]
     },
     "execution_count": 142,
     "metadata": {},
     "output_type": "execute_result"
    }
   ],
   "source": [
    "r_gradientvsxgb = {'Métrica': ['MAE','MAPE','MSE','RMSE','R2','MAX_ERROR'],\n",
    "                'Gradient_Boosting_Grid':[mean_absolute_error(y_test, gbrt_grid.predict(X_test)),\n",
    "                                        mean_absolute_percentage_error(y_test, gbrt_grid.predict(X_test))*100,\n",
    "                                        mean_squared_error(y_test, gbrt_grid.predict(X_test)),\n",
    "                                        np.sqrt(mean_squared_error(y_test, gbrt_grid.predict(X_test))),\n",
    "                                        r2_score(y_test,gbrt_grid.predict(X_test)),\n",
    "                                        max_error(y_test,gbrt_grid.predict(X_test))\n",
    "\n",
    "                    \n",
    "                ]}\n",
    "r_gradientvsxgb = pd.DataFrame(r_gradientvsxgb)\n",
    "r_gradientvsxgb['xgb_grid'] = [\n",
    "                    mean_absolute_error(y_test, xgb_reg.predict(X_test)),\n",
    "                    mean_absolute_percentage_error(y_test, xgb_reg.predict(X_test))*100,\n",
    "                    mean_squared_error(y_test, xgb_reg.predict(X_test)),\n",
    "                    np.sqrt(mean_squared_error(y_test, xgb_reg.predict(X_test))),\n",
    "                    r2_score(y_test,xgb_reg.predict(X_test)),\n",
    "                    max_error(y_test,xgb_reg.predict(X_test))\n",
    "                    ]\n",
    "r_gradientvsxgb"
   ]
  },
  {
   "cell_type": "markdown",
   "metadata": {},
   "source": [
    "> Tras analizar ambas métricas con un parámetro más, decido quedarme con Gradient Boosting, ya que los errores máximos son menores. En este caso que nuestro modelo trata de la predicción de precios de venta de coches de segunnda, por lo cual se podría implementar en portales de compra ventas de coches, lo más interesante es que el error máximo sea el menor posible."
   ]
  },
  {
   "cell_type": "code",
   "execution_count": null,
   "metadata": {},
   "outputs": [],
   "source": [
    "# Guardo el mejor modelo, listo para poner en producción\n",
    "\n",
    "with open('model/final/my_model','wb') as archivo_salida:\n",
    "    pickle.dump(gbrt_grid,archivo_salida)"
   ]
  }
 ],
 "metadata": {
  "interpreter": {
   "hash": "7b89b7659d6d1f95ccdfc29511c5ccd7e0d849fb1c891534338821144de18a3b"
  },
  "kernelspec": {
   "display_name": "Python 3.7.4 64-bit",
   "language": "python",
   "name": "python3"
  },
  "language_info": {
   "codemirror_mode": {
    "name": "ipython",
    "version": 3
   },
   "file_extension": ".py",
   "mimetype": "text/x-python",
   "name": "python",
   "nbconvert_exporter": "python",
   "pygments_lexer": "ipython3",
   "version": "3.7.4"
  },
  "orig_nbformat": 4
 },
 "nbformat": 4,
 "nbformat_minor": 2
}
